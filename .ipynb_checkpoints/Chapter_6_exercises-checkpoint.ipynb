{
 "cells": [
  {
   "cell_type": "markdown",
   "id": "8218c7eb-1e8a-45fb-b300-721ba89f9aa5",
   "metadata": {},
   "source": [
    "## Chapter 6"
   ]
  },
  {
   "cell_type": "markdown",
   "id": "1c3942c0-ed91-4f9d-9938-bf43dff9e00b",
   "metadata": {},
   "source": [
    "### Tress using the Python native lists"
   ]
  },
  {
   "cell_type": "code",
   "execution_count": 1,
   "id": "0c51264a-c9e2-4498-b630-719f4158c47a",
   "metadata": {},
   "outputs": [],
   "source": [
    "def make_binary_tree(root):\n",
    "    return [root, [], []]"
   ]
  },
  {
   "cell_type": "code",
   "execution_count": 2,
   "id": "1ef0fddc-4ec5-449f-92a5-886bdb99946d",
   "metadata": {},
   "outputs": [],
   "source": [
    "def insert_left(root, new_child):\n",
    "    old_child = root.pop(1)\n",
    "    if len(old_child) > 1:\n",
    "        root.insert(1, [new_child, old_child, []])\n",
    "    else:\n",
    "        root.insert(1, [new_child, [], []])\n",
    "    return root"
   ]
  },
  {
   "cell_type": "code",
   "execution_count": 3,
   "id": "ac743e65-065e-4605-8332-9eb937f4f9a2",
   "metadata": {},
   "outputs": [],
   "source": [
    "def insert_right(root, new_child):\n",
    "    old_child = root.pop(2)\n",
    "    if len(old_child) > 1:\n",
    "        root.insert(2, [new_child, [], old_child])\n",
    "    else:\n",
    "        root.insert(2, [new_child, [], []])\n",
    "    return root"
   ]
  },
  {
   "cell_type": "code",
   "execution_count": 4,
   "id": "3b4c9785-5a7e-431c-bfaf-8e629153b2ef",
   "metadata": {},
   "outputs": [],
   "source": [
    "def get_root_val(root):\n",
    "    return root[0]\n",
    "\n",
    "\n",
    "def set_root_val(root, new_value):\n",
    "    root[0] = new_value\n",
    "\n",
    "\n",
    "def get_left_child(root):\n",
    "    return root[1]\n",
    "\n",
    "\n",
    "def get_right_child(root):\n",
    "    return root[2]"
   ]
  },
  {
   "cell_type": "code",
   "execution_count": 5,
   "id": "bb881f39-73e3-461e-a42f-e9af00c0e4c6",
   "metadata": {},
   "outputs": [
    {
     "name": "stdout",
     "output_type": "stream",
     "text": [
      "[5, [4, [], []], []]\n"
     ]
    }
   ],
   "source": [
    "a_tree = make_binary_tree(3)\n",
    "insert_left(a_tree, 4)\n",
    "insert_left(a_tree, 5)\n",
    "insert_right(a_tree, 6)\n",
    "insert_right(a_tree, 7)\n",
    "left_child = get_left_child(a_tree)\n",
    "print(left_child)"
   ]
  },
  {
   "cell_type": "code",
   "execution_count": 6,
   "id": "0bf0856c-ef45-407b-85ea-d404065e6183",
   "metadata": {},
   "outputs": [
    {
     "name": "stdout",
     "output_type": "stream",
     "text": [
      "['a', ['b', [], []], ['c', [], ['d', ['e', [], []], []]]]\n"
     ]
    }
   ],
   "source": [
    "x = make_binary_tree(\"a\")\n",
    "insert_left(x, \"b\")\n",
    "insert_right(x, \"c\")\n",
    "insert_right(get_right_child(x), \"d\")\n",
    "insert_left(get_right_child(get_right_child(x)), \"e\")\n",
    "print(x)"
   ]
  },
  {
   "cell_type": "code",
   "execution_count": 8,
   "id": "68f0332c-17b0-4341-a8f0-71bbfb6c68c4",
   "metadata": {},
   "outputs": [
    {
     "name": "stdout",
     "output_type": "stream",
     "text": [
      "['a', ['b', [], ['d', [], []]], ['c', ['e', [], []], ['e', [], []]]]\n"
     ]
    }
   ],
   "source": [
    "y = make_binary_tree(\"a\")\n",
    "insert_left(y, \"b\")\n",
    "insert_right(y, \"c\")\n",
    "insert_right(get_left_child(y), \"d\")\n",
    "insert_left(get_right_child(y), \"e\")\n",
    "insert_right(get_right_child(y), \"e\")\n",
    "print(y)"
   ]
  },
  {
   "cell_type": "markdown",
   "id": "367fb250-271f-4736-93df-8a0fe72f7879",
   "metadata": {},
   "source": [
    "### Trees using a class"
   ]
  },
  {
   "cell_type": "code",
   "execution_count": 4,
   "id": "2c8688c5-ccd7-44ba-868b-69b24e2d5c60",
   "metadata": {},
   "outputs": [],
   "source": [
    "class BinaryTree:\n",
    "    def __init__(self, root_obj):\n",
    "        self.key = root_obj\n",
    "        self.left_child = None\n",
    "        self.right_child = None\n",
    "\n",
    "    def insert_left(self, new_node):\n",
    "        if self.left_child is None:\n",
    "            self.left_child = BinaryTree(new_node)\n",
    "        else:\n",
    "            new_child = BinaryTree(new_node)\n",
    "            new_child.left_child = self.left_child\n",
    "            self.left_child = new_child\n",
    "\n",
    "    def insert_right(self, new_node):\n",
    "        if self.right_child == None:\n",
    "            self.right_child = BinaryTree(new_node)\n",
    "        else:\n",
    "            new_child = BinaryTree(new_node)\n",
    "            new_child.right_child = self.right_child\n",
    "            self.right_child = new_child\n",
    "\n",
    "    def get_root_val(self):\n",
    "        return self.key\n",
    "\n",
    "    def set_root_val(self, new_obj):\n",
    "        self.key = new_obj\n",
    "\n",
    "    def get_left_child(self):\n",
    "        return self.left_child\n",
    "\n",
    "    def get_right_child(self):\n",
    "        return self.right_child\n",
    "\n",
    "    "
   ]
  },
  {
   "cell_type": "code",
   "execution_count": 11,
   "id": "e2cba4f7-958e-4a29-a91a-1e1d67459dca",
   "metadata": {},
   "outputs": [
    {
     "name": "stdout",
     "output_type": "stream",
     "text": [
      "a\n",
      "None\n",
      "<__main__.BinaryTree object at 0x7fef1b528b20>\n",
      "b\n",
      "<__main__.BinaryTree object at 0x7fef1b52a620>\n",
      "c\n",
      "hello\n"
     ]
    }
   ],
   "source": [
    "a_tree = BinaryTree(\"a\")\n",
    "print(a_tree.get_root_val())\n",
    "print(a_tree.get_left_child())\n",
    "a_tree.insert_left(\"b\")\n",
    "print(a_tree.get_left_child())\n",
    "print(a_tree.get_left_child().get_root_val())\n",
    "a_tree.insert_right(\"c\")\n",
    "print(a_tree.get_right_child())\n",
    "print(a_tree.get_right_child().get_root_val())\n",
    "a_tree.get_right_child().set_root_val(\"hello\")\n",
    "print(a_tree.get_right_child().get_root_val())"
   ]
  },
  {
   "cell_type": "code",
   "execution_count": 12,
   "id": "53c34f8b-489e-4096-a2cd-75fb8206d2cf",
   "metadata": {},
   "outputs": [],
   "source": [
    "y = BinaryTree(\"a\")\n",
    "y.insert_left(\"b\")\n",
    "y.insert_right(\"c\")\n",
    "y.get_left_child().insert_right(\"d\")\n",
    "y.get_right_child().insert_left(\"e\")\n",
    "y.get_right_child().insert_right(\"f\")"
   ]
  },
  {
   "cell_type": "code",
   "execution_count": 13,
   "id": "45137cc3-a953-448a-ae31-fb42b3a244e4",
   "metadata": {},
   "outputs": [
    {
     "name": "stdout",
     "output_type": "stream",
     "text": [
      "a\n"
     ]
    }
   ],
   "source": [
    "print(y.get_root_val())"
   ]
  },
  {
   "cell_type": "code",
   "execution_count": 15,
   "id": "b9d63517-328e-4a75-994d-739e1f9d23d2",
   "metadata": {},
   "outputs": [
    {
     "name": "stdout",
     "output_type": "stream",
     "text": [
      "b\n",
      "d\n"
     ]
    }
   ],
   "source": [
    "print(y.get_left_child().key)\n",
    "print(y.get_left_child().get_right_child().key)"
   ]
  },
  {
   "cell_type": "code",
   "execution_count": 17,
   "id": "01d508cd-6311-42bc-b518-b77bd062eeea",
   "metadata": {},
   "outputs": [
    {
     "name": "stdout",
     "output_type": "stream",
     "text": [
      "c\n",
      "e\n",
      "f\n"
     ]
    }
   ],
   "source": [
    "print(y.get_right_child().key)\n",
    "print(y.get_right_child().get_left_child().key)\n",
    "print(y.get_right_child().get_right_child().key)"
   ]
  },
  {
   "cell_type": "markdown",
   "id": "d42c0750-fd86-48ff-a5d1-984be1772799",
   "metadata": {},
   "source": [
    "### Using trees for math operations"
   ]
  },
  {
   "cell_type": "code",
   "execution_count": 1,
   "id": "04eff84c-aaa4-4447-8709-bf10cb26d493",
   "metadata": {},
   "outputs": [],
   "source": [
    "class BinaryTree:\n",
    "    def __init__(self, root_obj):\n",
    "        self.key = root_obj\n",
    "        self.left_child = None\n",
    "        self.right_child = None\n",
    "\n",
    "    def insert_left(self, new_node):\n",
    "        if self.left_child is None:\n",
    "            self.left_child = BinaryTree(new_node)\n",
    "        else:\n",
    "            new_child = BinaryTree(new_node)\n",
    "            new_child.left_child = self.left_child\n",
    "            self.left_child = new_child\n",
    "\n",
    "    def insert_right(self, new_node):\n",
    "        if self.right_child == None:\n",
    "            self.right_child = BinaryTree(new_node)\n",
    "        else:\n",
    "            new_child = BinaryTree(new_node)\n",
    "            new_child.right_child = self.right_child\n",
    "            self.right_child = new_child\n",
    "\n",
    "    def get_root_val(self):\n",
    "        return self.key\n",
    "\n",
    "    def set_root_val(self, new_obj):\n",
    "        self.key = new_obj\n",
    "\n",
    "    def get_left_child(self):\n",
    "        return self.left_child\n",
    "\n",
    "    def get_right_child(self):\n",
    "        return self.right_child"
   ]
  },
  {
   "cell_type": "code",
   "execution_count": 2,
   "id": "95167f63-e654-497f-ad85-a8245c6cebe5",
   "metadata": {},
   "outputs": [],
   "source": [
    "class Stack:\n",
    "    \"\"\"Stack implementation as a list\"\"\"\n",
    "\n",
    "    def __init__(self):\n",
    "        self._items = []\n",
    "\n",
    "    def is_empty(self):\n",
    "        return not bool(self._items)\n",
    "\n",
    "    def push(self, item):\n",
    "        self._items.append(item)\n",
    "\n",
    "    def pop(self):\n",
    "        return self._items.pop()\n",
    "\n",
    "    def peek(self):\n",
    "        return self._items[-1]\n",
    "\n",
    "    def size(self):\n",
    "        return len(self._items)"
   ]
  },
  {
   "cell_type": "code",
   "execution_count": 3,
   "id": "6cfd0ace-0e40-4416-95be-b1f70d6426bb",
   "metadata": {},
   "outputs": [],
   "source": [
    "def build_parse_tree(fp_expr):\n",
    "    fp_list = fp_expr.split()\n",
    "    p_stack = Stack()\n",
    "    expr_tree = BinaryTree(\"\")\n",
    "    p_stack.push(expr_tree)\n",
    "    current_tree = expr_tree\n",
    "\n",
    "    print(fp_list)\n",
    "\n",
    "    for i in fp_list:\n",
    "        if i == \"(\":\n",
    "            current_tree.insert_left(\"\")\n",
    "            p_stack.push(current_tree)\n",
    "            current_tree = current_tree.left_child\n",
    "        elif i in [\"+\", \"-\", \"*\", \"/\"]:\n",
    "            current_tree.key = i\n",
    "            current_tree.insert_right(\"\")\n",
    "            p_stack.push(current_tree)\n",
    "            current_tree = current_tree.right_child\n",
    "        elif i.isdigit():\n",
    "              current_tree.key = int(i)\n",
    "              parent = p_stack.pop()\n",
    "              current_tree = parent\n",
    "        elif i == \")\":\n",
    "              current_tree = p_stack.pop()\n",
    "        else:\n",
    "              raise ValueError(f\"Unknown operator '{i}'\")\n",
    "\n",
    "    return expr_tree\n",
    "    "
   ]
  },
  {
   "cell_type": "code",
   "execution_count": 4,
   "id": "60dab972-2514-4617-bbd5-c00070cfb54b",
   "metadata": {},
   "outputs": [
    {
     "name": "stdout",
     "output_type": "stream",
     "text": [
      "['(', '(', '10', '+', '5', ')', '*', '3', ')']\n",
      "<__main__.BinaryTree object at 0x7f2a1bde32b0>\n"
     ]
    }
   ],
   "source": [
    "pt = build_parse_tree(\"( ( 10 + 5 ) * 3 )\")\n",
    "#pt.postorder()  # defined and explained in the next section\n",
    "print(pt)"
   ]
  },
  {
   "cell_type": "code",
   "execution_count": 5,
   "id": "13ff2229-c014-41bc-b548-642f187c7de2",
   "metadata": {},
   "outputs": [
    {
     "data": {
      "text/plain": [
       "'*'"
      ]
     },
     "execution_count": 5,
     "metadata": {},
     "output_type": "execute_result"
    }
   ],
   "source": [
    "pt.key"
   ]
  },
  {
   "cell_type": "code",
   "execution_count": 6,
   "id": "e482889e-5a11-41b5-8c36-257c14c15013",
   "metadata": {},
   "outputs": [
    {
     "data": {
      "text/plain": [
       "'+'"
      ]
     },
     "execution_count": 6,
     "metadata": {},
     "output_type": "execute_result"
    }
   ],
   "source": [
    "pt.left_child.key"
   ]
  },
  {
   "cell_type": "code",
   "execution_count": 7,
   "id": "5fd80a62-daeb-4316-aac8-da44184be877",
   "metadata": {},
   "outputs": [
    {
     "data": {
      "text/plain": [
       "3"
      ]
     },
     "execution_count": 7,
     "metadata": {},
     "output_type": "execute_result"
    }
   ],
   "source": [
    "pt.right_child.key"
   ]
  },
  {
   "cell_type": "code",
   "execution_count": 8,
   "id": "d7432972-432d-454d-8c15-7cd802790438",
   "metadata": {},
   "outputs": [
    {
     "data": {
      "text/plain": [
       "10"
      ]
     },
     "execution_count": 8,
     "metadata": {},
     "output_type": "execute_result"
    }
   ],
   "source": [
    "pt.left_child.left_child.key"
   ]
  },
  {
   "cell_type": "code",
   "execution_count": 9,
   "id": "f087cdc6-d4a2-4a01-bd5c-56a16a700236",
   "metadata": {},
   "outputs": [
    {
     "data": {
      "text/plain": [
       "5"
      ]
     },
     "execution_count": 9,
     "metadata": {},
     "output_type": "execute_result"
    }
   ],
   "source": [
    "pt.left_child.right_child.key"
   ]
  },
  {
   "cell_type": "markdown",
   "id": "0b8b7fd7-15a1-42ae-8906-341f0cef51b8",
   "metadata": {},
   "source": [
    "### Tree traversals"
   ]
  },
  {
   "cell_type": "markdown",
   "id": "0751abe3-5081-46bb-8afa-cca27d06a694",
   "metadata": {},
   "source": [
    "In a preorder traversal, we visit the root node first, then recursively do a preorder traversal of the left subtree, followed by a recursive preorder traversal of the right subtree."
   ]
  },
  {
   "cell_type": "code",
   "execution_count": 10,
   "id": "0a34f75d-55db-464e-bc7e-3bd82dc4438d",
   "metadata": {},
   "outputs": [],
   "source": [
    "def preorder(tree):\n",
    "    if tree:\n",
    "        print(tree.key)\n",
    "        preorder(tree.left_child)\n",
    "        preorder(tree.right_child)"
   ]
  },
  {
   "cell_type": "code",
   "execution_count": 11,
   "id": "53ba5fd6-5334-4826-a773-2353167b6403",
   "metadata": {},
   "outputs": [
    {
     "name": "stdout",
     "output_type": "stream",
     "text": [
      "*\n",
      "+\n",
      "10\n",
      "5\n",
      "3\n"
     ]
    }
   ],
   "source": [
    "preorder(pt)"
   ]
  },
  {
   "cell_type": "markdown",
   "id": "e3632ce5-36c6-4f30-8887-9c11f1d980af",
   "metadata": {},
   "source": [
    "In a postorder traversal, we recursively do a postorder traversal of the left subtree and the right subtree followed by a visit to the root node."
   ]
  },
  {
   "cell_type": "code",
   "execution_count": 12,
   "id": "8dc45f7d-f699-4de9-bff2-15497f44a589",
   "metadata": {},
   "outputs": [],
   "source": [
    "def postorder(tree):\n",
    "    if tree:\n",
    "        postorder(tree.left_child)\n",
    "        postorder(tree.right_child)\n",
    "        print(tree.key)"
   ]
  },
  {
   "cell_type": "code",
   "execution_count": 13,
   "id": "9ce93b59-ce89-4b96-a883-bf892c4e873e",
   "metadata": {},
   "outputs": [
    {
     "name": "stdout",
     "output_type": "stream",
     "text": [
      "10\n",
      "5\n",
      "+\n",
      "3\n",
      "*\n"
     ]
    }
   ],
   "source": [
    "postorder(pt)"
   ]
  },
  {
   "cell_type": "markdown",
   "id": "cf8f5479-04dc-45cf-ae79-65091af7f3be",
   "metadata": {},
   "source": [
    "In an inorder traversal, we recursively do an inorder traversal on the left subtree, visit the root node, and finally do a recursive inorder traversal of the right subtree."
   ]
  },
  {
   "cell_type": "code",
   "execution_count": 14,
   "id": "09d266fc-f89c-423f-8717-aca063d8d883",
   "metadata": {},
   "outputs": [],
   "source": [
    "def inorder(tree):\n",
    "    if tree:\n",
    "        inorder(tree.left_child)\n",
    "        print(tree.key)\n",
    "        inorder(tree.right_child)"
   ]
  },
  {
   "cell_type": "code",
   "execution_count": 15,
   "id": "f482d2a4-3c6d-41dc-9eed-d2ff7804080e",
   "metadata": {},
   "outputs": [
    {
     "name": "stdout",
     "output_type": "stream",
     "text": [
      "10\n",
      "+\n",
      "5\n",
      "*\n",
      "3\n"
     ]
    }
   ],
   "source": [
    "inorder(pt)"
   ]
  },
  {
   "cell_type": "code",
   "execution_count": 16,
   "id": "ae860d59-dab9-4b04-bd6a-c229d231bb03",
   "metadata": {},
   "outputs": [],
   "source": [
    "class Calculate:\n",
    "\n",
    "    def add(self, op1, op2):\n",
    "        return op1 + op2\n",
    "\n",
    "    def sub(self, op1, op2):\n",
    "        return op1 - op2\n",
    "\n",
    "    def mul(self, op1, op2):\n",
    "        return op1 * op2\n",
    "\n",
    "    def truediv(self, op1, op2):\n",
    "        return int(op1 / op2)\n",
    "        "
   ]
  },
  {
   "cell_type": "code",
   "execution_count": 17,
   "id": "ee5e67f8-cbd1-4d16-97bc-da0e23ef4a7a",
   "metadata": {},
   "outputs": [],
   "source": [
    "operator = Calculate()"
   ]
  },
  {
   "cell_type": "code",
   "execution_count": 18,
   "id": "d50b1a58-2b1e-48ea-92d5-3a483136ee5c",
   "metadata": {},
   "outputs": [],
   "source": [
    "def postordereval(tree):\n",
    "    operators = {\n",
    "        \"+\": operator.add,\n",
    "        \"-\": operator.sub,\n",
    "        \"*\": operator.mul,\n",
    "        \"/\": operator.truediv,\n",
    "    }\n",
    "    result_1 = None\n",
    "    result_2 = None\n",
    "    if tree:\n",
    "        result_1 = postordereval(tree.left_child)\n",
    "        result_2 = postordereval(tree.right_child)\n",
    "        if result_1 and result_2:\n",
    "            return operators[tree.key](result_1, result_2)\n",
    "        return tree.key"
   ]
  },
  {
   "cell_type": "code",
   "execution_count": 19,
   "id": "dfb2da28-5168-4017-a1d5-bc3d7c614c00",
   "metadata": {},
   "outputs": [
    {
     "data": {
      "text/plain": [
       "45"
      ]
     },
     "execution_count": 19,
     "metadata": {},
     "output_type": "execute_result"
    }
   ],
   "source": [
    "postordereval(pt)"
   ]
  },
  {
   "cell_type": "code",
   "execution_count": 20,
   "id": "69a5a5de-9387-4004-9124-ef6bd05f2e06",
   "metadata": {},
   "outputs": [],
   "source": [
    "def evaluate(parse_tree):\n",
    "    operators = {\n",
    "        \"+\": operator.add,\n",
    "        \"-\": operator.sub,\n",
    "        \"*\": operator.mul,\n",
    "        \"/\": operator.truediv,\n",
    "    }\n",
    "\n",
    "    left_child = parse_tree.left_child\n",
    "    right_child = parse_tree.right_child\n",
    "\n",
    "    if left_child and right_child:\n",
    "        fn = operators[parse_tree.key]\n",
    "        return fn(evaluate(left_child), evaluate(right_child))\n",
    "    else:\n",
    "        return parse_tree.key"
   ]
  },
  {
   "cell_type": "code",
   "execution_count": 21,
   "id": "fbfdda62-9404-46a5-a662-c5ec65845c00",
   "metadata": {},
   "outputs": [
    {
     "data": {
      "text/plain": [
       "45"
      ]
     },
     "execution_count": 21,
     "metadata": {},
     "output_type": "execute_result"
    }
   ],
   "source": [
    "evaluate(pt)"
   ]
  },
  {
   "cell_type": "markdown",
   "id": "61277183-109e-41bd-b6a0-bed93e789c49",
   "metadata": {},
   "source": [
    "### Priority Queue"
   ]
  },
  {
   "cell_type": "markdown",
   "id": "3f510198-753b-4b46-ae5d-512dbcf57a6e",
   "metadata": {},
   "source": [
    "A priority queue acts like a queue in that you dequeue an item by removing it from the front. However, in a priority queue the logical order of items inside a queue is determined by their priority. The highest priority items are at the front of the queue and the lowest priority items are at the back. Thus when you enqueue an item on a priority queue, the new item may move all the way to the front. "
   ]
  },
  {
   "cell_type": "markdown",
   "id": "5e5e9a8d-86c8-47a9-b023-9f8e455360e6",
   "metadata": {},
   "source": [
    "The classic way to implement a priority queue is using a data structure called a **binary heap**. A binary heap will allow us both to enqueue and dequeue items in O(log(n)). The binary heap has two common variations: the **min heap**, in which the smallest key value is always at the front, and the **max heap**, in which the largest key value is always at the front."
   ]
  },
  {
   "cell_type": "markdown",
   "id": "92ce358b-7cde-41ca-908c-f513858a4bfd",
   "metadata": {},
   "source": [
    "#### Binary heap operations"
   ]
  },
  {
   "cell_type": "code",
   "execution_count": 22,
   "id": "4cf15e60-c923-4f43-80fe-24b4b770d23b",
   "metadata": {},
   "outputs": [],
   "source": [
    "class BinaryHeap:\n",
    "    def __init__(self):\n",
    "        self._heap = []\n",
    "\n",
    "    def _perc_up(self, cur_idx):\n",
    "        while (cur_idx - 1) // 2 >= 0:\n",
    "            parent_idx = (cur_idx - 1) // 2\n",
    "            if self._heap[cur_idx] < self._heap[parent_idx]:\n",
    "                self._heap[cur_idx], self._heap[parent_idx] = (\n",
    "                    self._heap[parent_idx],\n",
    "                    self._heap[cur_idx],\n",
    "                )\n",
    "            cur_idx = parent_idx\n",
    "\n",
    "    def _perc_down(self, cur_idx):\n",
    "        while 2 * cur_idx + 1 < len(self._heap):\n",
    "            min_child_idx = self._get_min_child(cur_idx)\n",
    "            if self._heap[cur_idx] > self._heap[min_child_idx]:\n",
    "                self._heap[cur_idx], self._heap[min_child_idx] = (\n",
    "                    self._heap[min_child_idx],\n",
    "                    self._heap[cur_idx],\n",
    "                )\n",
    "            else:\n",
    "                return\n",
    "            cur_idx = min_child_idx\n",
    "\n",
    "    def _get_min_child(self, parent_idx):\n",
    "        if 2 * parent_idx + 2 > len(self._heap) - 1:\n",
    "            return 2 * parent_idx + 1\n",
    "        if self._heap[2 * parent_idx + 1] < self._heap[2 * parent_idx + 2]:\n",
    "            return 2 * parent_idx + 1\n",
    "        return 2 * parent_idx + 2\n",
    "\n",
    "    def heapify(self, not_a_heap):\n",
    "        self._heap = not_a_heap[:]\n",
    "        cur_idx = len(self._heap) // 2 - 1\n",
    "        while cur_idx >= 0:\n",
    "            self._perc_down(cur_idx)\n",
    "            cur_idx = cur_idx - 1\n",
    "\n",
    "    def get_min(self):\n",
    "        return self._heap[0]\n",
    "\n",
    "    def insert(self, item):\n",
    "        self._heap.append(item)\n",
    "        self._perc_up(len(self._heap) - 1)\n",
    "\n",
    "    def delete(self):\n",
    "        self._heap[0], self._heap[-1] = self._heap[-1], self._heap[0]\n",
    "        result = self._heap.pop()\n",
    "        self._perc_down(0)\n",
    "        return result\n",
    "\n",
    "    def is_empty(self):\n",
    "        return not bool(self._heap)\n",
    "\n",
    "    def __len__(self):\n",
    "        return len(self._heap)\n",
    "\n",
    "    def __str__(self):\n",
    "        return str(self._heap)\n"
   ]
  },
  {
   "cell_type": "code",
   "execution_count": 23,
   "id": "0731f526-84e9-4769-b536-5324e24e08c1",
   "metadata": {},
   "outputs": [],
   "source": [
    "a_heap = BinaryHeap()\n",
    "a_heap.heapify([9, 5, 6, 2, 3])"
   ]
  },
  {
   "cell_type": "code",
   "execution_count": 25,
   "id": "05753300-7c45-49e1-b25b-e8fc8fc83e68",
   "metadata": {},
   "outputs": [
    {
     "data": {
      "text/plain": [
       "[2, 3, 6, 5, 9]"
      ]
     },
     "execution_count": 25,
     "metadata": {},
     "output_type": "execute_result"
    }
   ],
   "source": [
    "a_heap._heap"
   ]
  },
  {
   "cell_type": "code",
   "execution_count": 26,
   "id": "ddf9c882-b1d2-4b90-be85-1aa9f470879b",
   "metadata": {},
   "outputs": [
    {
     "name": "stdout",
     "output_type": "stream",
     "text": [
      "2\n",
      "3\n",
      "5\n",
      "6\n",
      "9\n"
     ]
    }
   ],
   "source": [
    "while not a_heap.is_empty():\n",
    "    print(a_heap.delete())"
   ]
  },
  {
   "cell_type": "code",
   "execution_count": 27,
   "id": "52583599-4c9a-497b-b0cc-a89fed53d4cf",
   "metadata": {},
   "outputs": [
    {
     "data": {
      "text/plain": [
       "[]"
      ]
     },
     "execution_count": 27,
     "metadata": {},
     "output_type": "execute_result"
    }
   ],
   "source": [
    "a_heap._heap"
   ]
  },
  {
   "cell_type": "markdown",
   "id": "9a8e54f4-66ec-4aa2-9379-bfb7eb92f61b",
   "metadata": {},
   "source": [
    "A binary search tree (BST) relies on the property that keys that are less than the parent are found in the left subtree, and keys that are greater than the parent are found in the right subtree. We will call this the BST property. "
   ]
  },
  {
   "cell_type": "code",
   "execution_count": 31,
   "id": "aef63270-14c1-46ae-b616-b28470ac4e8b",
   "metadata": {},
   "outputs": [],
   "source": [
    "class TreeNode:\n",
    "    def __init__(self, key, value, left=None, right=None, parent=None):\n",
    "        self.key = key\n",
    "        self.value = value\n",
    "        self.left_child = left\n",
    "        self.right_child = right\n",
    "        self.parent = parent\n",
    "\n",
    "    def is_left_child(self):\n",
    "        return self.parent and self.parent.left_child is self\n",
    "\n",
    "    def is_right_child(self):\n",
    "        return self.parent and self.parent.right_child is self\n",
    "\n",
    "    def is_root(self):\n",
    "        return not self.parent\n",
    "\n",
    "    def is_leaf(self):\n",
    "        return not (self.right_child or self.left_child)\n",
    "\n",
    "    def has_any_child(self):\n",
    "        return self.right_child or self.left_child\n",
    "\n",
    "    def has_children(self):\n",
    "        return self.right_child and self.left_child\n",
    "\n",
    "    def replace_value(self, key, value, left, right):\n",
    "        self.key = key\n",
    "        self.value = value\n",
    "        self.left_child = left\n",
    "        self.right_child = right\n",
    "        if self.left_child:\n",
    "            self.left_child.parent = self\n",
    "        if self.right_child:\n",
    "            self.right_child.parent = self\n",
    "\n",
    "    def find_successor(self):\n",
    "        successor = None\n",
    "        if self.right_child:\n",
    "            successor = self.right_child.find_min()\n",
    "        else:\n",
    "            if self.parent:\n",
    "                if self.is_left_child():\n",
    "                    successor = self.parent\n",
    "                else:\n",
    "                    self.parent.right_child = None\n",
    "                    successor = self.parent.find_successor()\n",
    "                    self.parent.right_child = self\n",
    "        return successor\n",
    "\n",
    "    def find_min(self):\n",
    "        current = self\n",
    "        while current.left_child:\n",
    "            current = current.left_child\n",
    "        return current\n",
    "\n",
    "    def splice_out(self):\n",
    "        if self.is_leaf():\n",
    "            if self.is_left_child():\n",
    "                self.parent.left_child = None\n",
    "            else:\n",
    "                self.parent.right_child = None\n",
    "        elif self.has_any_child():\n",
    "            if self.left_child:\n",
    "                if self.is_left_child():\n",
    "                    self.parent.left_child = self.left_child\n",
    "                else:\n",
    "                    self.parent.right_child = self.left_child\n",
    "                self.left_child.parent = self.parent\n",
    "            else:\n",
    "                if self.is_left_child():\n",
    "                    self.parent.left_child = self.right_child\n",
    "                else:\n",
    "                    self.parent.right_child = self.right_child\n",
    "                self.right_child.parent = self.parent\n",
    "\n",
    "    def __iter__(self):\n",
    "        if self:\n",
    "            if self.left_child:\n",
    "                for elem in self.left_child:\n",
    "                    yield elem\n",
    "            yield self.key\n",
    "            if self.right_child:\n",
    "                for elem in self.right_child:\n",
    "                    yield elem"
   ]
  },
  {
   "cell_type": "code",
   "execution_count": 33,
   "id": "886f14e8-d348-43ce-af00-a3f4631653d9",
   "metadata": {},
   "outputs": [],
   "source": [
    "class BinarySearchTree:\n",
    "    def __init__(self):\n",
    "        self.root = None\n",
    "        self.size = 0\n",
    "\n",
    "    def __len__(self):\n",
    "        return self.size\n",
    "\n",
    "    def __iter__(self):\n",
    "        return self.root.__iter__()\n",
    "\n",
    "    def put(self, key, value):\n",
    "        \"\"\"\n",
    "        If there is not a root, then put will create a new TreeNode and install it \n",
    "        as the root of the tree\n",
    "        \"\"\"\n",
    "        if self.root:\n",
    "            self._put(key, value, self.root)\n",
    "        else:\n",
    "            self.root = TreeNode(key, value)\n",
    "        self.size = self.size + 1\n",
    "\n",
    "    def _put(self, key, value, current_node):\n",
    "        \"\"\"\n",
    "        Starting at the root of the tree, search the binary tree comparing the new key \n",
    "        to the key in the current node. If the new key is less than the current node, \n",
    "        search the left subtree. If the new key is greater than the current node, \n",
    "        search the right subtree.\n",
    "\n",
    "        When there is no left or right child to search, we have found the position \n",
    "        in the tree where the new node should be installed.\n",
    "\n",
    "        To add a node to the tree, create a new TreeNode object and insert the object \n",
    "        at the point discovered in the previous step.\n",
    "        \"\"\"\n",
    "        if key < current_node.key:\n",
    "            if current_node.left_child:\n",
    "                self._put(key, value, current_node.left_child)\n",
    "            else:\n",
    "                current_node.left_child = TreeNode(\n",
    "                    key, value, parent=current_node\n",
    "                )\n",
    "        else:\n",
    "            if current_node.right_child:\n",
    "                self._put(key, value, current_node.right_child)\n",
    "            else:\n",
    "                current_node.right_child = TreeNode(\n",
    "                    key, value, parent=current_node\n",
    "                )\n",
    "\n",
    "    def __setitem__(self, key, value):\n",
    "        self.put(key, value)\n",
    "\n",
    "    def get(self, key):\n",
    "        if self.root:\n",
    "            result = self._get(key, self.root)\n",
    "            if result:\n",
    "                return result.value\n",
    "        return None\n",
    "\n",
    "    def _get(self, key, current_node):\n",
    "        if not current_node:\n",
    "            return None\n",
    "        if current_node.key == key:\n",
    "            return current_node\n",
    "        elif key < current_node.key:\n",
    "            return self._get(key, current_node.left_child)\n",
    "        else:\n",
    "            return self._get(key, current_node.right_child)\n",
    "\n",
    "    def __getitem__(self, key):\n",
    "        return self.get(key)\n",
    "\n",
    "    def __contains__(self, key):\n",
    "        return bool(self._get(key, self.root))\n",
    "\n",
    "    def delete(self, key):\n",
    "        if self.size > 1:\n",
    "            node_to_remove = self._get(key, self.root)\n",
    "            if node_to_remove:\n",
    "                self._delete(node_to_remove)\n",
    "                self.size = self.size - 1\n",
    "            else:\n",
    "                raise KeyError(\"Error, key not in tree\")\n",
    "        elif self.size == 1 and self.root.key == key:\n",
    "            self.root = None\n",
    "            self.size = self.size - 1\n",
    "        else:\n",
    "            raise KeyError(\"Error, key not in tree\")\n",
    "\n",
    "    def _delete(self, current_node):\n",
    "        \"\"\"\n",
    "        The decision proceeds as follows:\n",
    "\n",
    "        1. If the current node is a left child, then we only need to update \n",
    "        the parent reference of the left child to point to the parent of the \n",
    "        current node, and then update the left child reference of the parent \n",
    "        to point to the current node’s left child.\n",
    "\n",
    "        2. If the current node is a right child, then we only need to update \n",
    "        the parent reference of the left child to point to the parent of \n",
    "        the current node, and then update the right child reference of the \n",
    "        parent to point to the current node’s left child.\n",
    "\n",
    "        3. If the current node has no parent, it must be the root. \n",
    "        In this case we will just replace the key, value, left_child, \n",
    "        and right_child data by calling the replace_value method on the root.\n",
    "        \"\"\"\n",
    "        if current_node.is_leaf():  # removing a leaf\n",
    "            if current_node == current_node.parent.left_child:\n",
    "                current_node.parent.left_child = None\n",
    "            else:\n",
    "                current_node.parent.right_child = None\n",
    "        elif current_node.has_children():  # removing a node with two children\n",
    "            successor = current_node.find_successor()\n",
    "            successor.splice_out()\n",
    "            current_node.key = successor.key\n",
    "            current_node.value = successor.value\n",
    "        else:  # removing a node with one child\n",
    "            if current_node.left_child:\n",
    "                if current_node.is_left_child():\n",
    "                    current_node.left_child.parent = current_node.parent\n",
    "                    current_node.parent.left_child = current_node.left_child\n",
    "                elif current_node.is_right_child():\n",
    "                    current_node.left_child.parent = current_node.parent\n",
    "                    current_node.parent.right_child = current_node.left_child\n",
    "                else:\n",
    "                    current_node.replace_value(\n",
    "                        current_node.left_child.key,\n",
    "                        current_node.left_child.value,\n",
    "                        current_node.left_child.left_child,\n",
    "                        current_node.left_child.right_child,\n",
    "                    )\n",
    "            else:\n",
    "                if current_node.is_left_child():\n",
    "                    current_node.right_child.parent = current_node.parent\n",
    "                    current_node.parent.left_child = current_node.right_child\n",
    "                elif current_node.is_right_child():\n",
    "                    current_node.right_child.parent = current_node.parent\n",
    "                    current_node.parent.right_child = current_node.right_child\n",
    "                else:\n",
    "                    current_node.replace_value(\n",
    "                        current_node.right_child.key,\n",
    "                        current_node.right_child.value,\n",
    "                        current_node.right_child.left_child,\n",
    "                        current_node.right_child.right_child,\n",
    "                    )\n",
    "\n",
    "    def __delitem__(self, key):\n",
    "        self.delete(key)"
   ]
  },
  {
   "cell_type": "code",
   "execution_count": 34,
   "id": "5900d798-1af7-491e-8402-fa491d1bb931",
   "metadata": {},
   "outputs": [
    {
     "name": "stdout",
     "output_type": "stream",
     "text": [
      "quick\n",
      "lazy\n",
      "There are 9 items in this tree\n",
      "There are 8 items in this tree\n",
      "brown dog fox jumps lazy over quick the \n"
     ]
    }
   ],
   "source": [
    "my_tree = BinarySearchTree()\n",
    "my_tree[\"a\"] = \"a\"\n",
    "my_tree[\"q\"] = \"quick\"\n",
    "my_tree[\"b\"] = \"brown\"\n",
    "my_tree[\"f\"] = \"fox\"\n",
    "my_tree[\"j\"] = \"jumps\"\n",
    "my_tree[\"o\"] = \"over\"\n",
    "my_tree[\"t\"] = \"the\"\n",
    "my_tree[\"l\"] = \"lazy\"\n",
    "my_tree[\"d\"] = \"dog\"\n",
    "\n",
    "print(my_tree[\"q\"])\n",
    "print(my_tree[\"l\"])\n",
    "print(\"There are {} items in this tree\".format(len(my_tree)))\n",
    "my_tree.delete(\"a\")\n",
    "print(\"There are {} items in this tree\".format(len(my_tree)))\n",
    "\n",
    "for node in my_tree:\n",
    "    print(my_tree[node], end=\" \")\n",
    "print()"
   ]
  },
  {
   "cell_type": "markdown",
   "id": "4a223568-fb44-4465-84ec-73f10f5f3e82",
   "metadata": {},
   "source": [
    "### Practice exercises"
   ]
  },
  {
   "cell_type": "markdown",
   "id": "3b057846-f126-47d8-ab9c-fa9c224ec79f",
   "metadata": {},
   "source": [
    "Evaluating (4*8) / 6 - 3"
   ]
  },
  {
   "cell_type": "code",
   "execution_count": 66,
   "id": "06f93bdf-9b1c-41ab-ad38-eb5d51814404",
   "metadata": {},
   "outputs": [],
   "source": [
    "def build_parse_tree(fp_expr):\n",
    "    fp_list = fp_expr.split()\n",
    "    p_stack = Stack()\n",
    "    expr_tree = BinaryTree(\"\")\n",
    "    p_stack.push(expr_tree)\n",
    "    current_tree = expr_tree\n",
    "\n",
    "    print(fp_list)\n",
    "\n",
    "    for i in fp_list:\n",
    "        if i in [\"+\", \"-\"]:\n",
    "            current_tree.insert_left(\"0\")\n",
    "            current_tree.insert_right(\"0\")\n",
    "            p_stack.push(current_tree)\n",
    "\n",
    "    current_tree.left_child.insert_left(\"0\")\n",
    "    current_tree.left_child.left_child.insert_left(\"0\")\n",
    "    p_stack.push(current_tree)\n",
    "    #current_tree = current_tree.left_child.left_child\n",
    "\n",
    "    \"\"\"\n",
    "    while i!=\"-\":\n",
    "        if i in [\"(\", \"+\", \"-\", \"/\"]:\n",
    "            current_tree.insert_left(\"\")\n",
    "            p_stack.push(current_tree)\n",
    "            current_tree = current_tree.left_child\n",
    "        elif i in [\"*\"]:\n",
    "            current_tree.key = i\n",
    "            current_tree.insert_right(\"\")\n",
    "            p_stack.push(current_tree)\n",
    "            current_tree = current_tree.right_child\n",
    "        elif i.isdigit():\n",
    "              current_tree.key = int(i)\n",
    "              parent = p_stack.pop()\n",
    "              current_tree = parent\n",
    "        elif i == \")\":\n",
    "              current_tree = p_stack.pop()\n",
    "        else:\n",
    "              raise ValueError(f\"Unknown operator '{i}'\")\n",
    "    \"\"\"\n",
    "\n",
    "    return expr_tree\n",
    "    "
   ]
  },
  {
   "cell_type": "code",
   "execution_count": 67,
   "id": "d00d9b67-561f-45e3-bbfd-3f7f4256d228",
   "metadata": {},
   "outputs": [
    {
     "name": "stdout",
     "output_type": "stream",
     "text": [
      "['(', '4', '*', '8', ')', '/', '6', '-', '3']\n",
      "<__main__.BinaryTree object at 0x7f2a1ab782e0>\n"
     ]
    }
   ],
   "source": [
    "pt = build_parse_tree(\"( 4 * 8 ) / 6 - 3\")\n",
    "#pt.postorder()  # defined and explained in the next section\n",
    "print(pt)"
   ]
  },
  {
   "cell_type": "code",
   "execution_count": 68,
   "id": "8a307db3-e436-499e-a6fc-f0f9958e2ee2",
   "metadata": {},
   "outputs": [
    {
     "data": {
      "text/plain": [
       "''"
      ]
     },
     "execution_count": 68,
     "metadata": {},
     "output_type": "execute_result"
    }
   ],
   "source": [
    "pt.key"
   ]
  },
  {
   "cell_type": "code",
   "execution_count": 69,
   "id": "f6d514e7-8de0-42f0-b32e-2c891fa8c86d",
   "metadata": {},
   "outputs": [
    {
     "data": {
      "text/plain": [
       "'0'"
      ]
     },
     "execution_count": 69,
     "metadata": {},
     "output_type": "execute_result"
    }
   ],
   "source": [
    "pt.left_child.key"
   ]
  },
  {
   "cell_type": "code",
   "execution_count": 70,
   "id": "04164512-9dfd-401e-9d7f-03bb8f1aa307",
   "metadata": {},
   "outputs": [
    {
     "data": {
      "text/plain": [
       "'0'"
      ]
     },
     "execution_count": 70,
     "metadata": {},
     "output_type": "execute_result"
    }
   ],
   "source": [
    "pt.right_child.key"
   ]
  },
  {
   "cell_type": "code",
   "execution_count": 71,
   "id": "c029edb5-4015-4b69-b5f2-636aadd1f13b",
   "metadata": {},
   "outputs": [
    {
     "data": {
      "text/plain": [
       "'0'"
      ]
     },
     "execution_count": 71,
     "metadata": {},
     "output_type": "execute_result"
    }
   ],
   "source": [
    "pt.left_child.left_child.key"
   ]
  },
  {
   "cell_type": "code",
   "execution_count": 72,
   "id": "b332ea9b-a808-4739-94c2-a9ab71806bb6",
   "metadata": {},
   "outputs": [
    {
     "ename": "AttributeError",
     "evalue": "'NoneType' object has no attribute 'key'",
     "output_type": "error",
     "traceback": [
      "\u001b[0;31m---------------------------------------------------------------------------\u001b[0m",
      "\u001b[0;31mAttributeError\u001b[0m                            Traceback (most recent call last)",
      "Cell \u001b[0;32mIn[72], line 1\u001b[0m\n\u001b[0;32m----> 1\u001b[0m \u001b[43mpt\u001b[49m\u001b[38;5;241;43m.\u001b[39;49m\u001b[43mleft_child\u001b[49m\u001b[38;5;241;43m.\u001b[39;49m\u001b[43mright_child\u001b[49m\u001b[38;5;241;43m.\u001b[39;49m\u001b[43mkey\u001b[49m\n",
      "\u001b[0;31mAttributeError\u001b[0m: 'NoneType' object has no attribute 'key'"
     ]
    }
   ],
   "source": [
    "pt.left_child.right_child.key"
   ]
  },
  {
   "cell_type": "code",
   "execution_count": null,
   "id": "ccc07e3a-63b1-4d5f-b4e8-aaec546c7b34",
   "metadata": {},
   "outputs": [],
   "source": []
  },
  {
   "cell_type": "code",
   "execution_count": null,
   "id": "d99d00a6-ba23-4725-8762-ca1dfd875c9e",
   "metadata": {},
   "outputs": [],
   "source": []
  },
  {
   "cell_type": "code",
   "execution_count": null,
   "id": "44a20879-a4c6-4aa6-92c1-eef1de581618",
   "metadata": {},
   "outputs": [],
   "source": []
  }
 ],
 "metadata": {
  "kernelspec": {
   "display_name": "Python 3 (ipykernel)",
   "language": "python",
   "name": "python3"
  },
  "language_info": {
   "codemirror_mode": {
    "name": "ipython",
    "version": 3
   },
   "file_extension": ".py",
   "mimetype": "text/x-python",
   "name": "python",
   "nbconvert_exporter": "python",
   "pygments_lexer": "ipython3",
   "version": "3.10.16"
  }
 },
 "nbformat": 4,
 "nbformat_minor": 5
}
