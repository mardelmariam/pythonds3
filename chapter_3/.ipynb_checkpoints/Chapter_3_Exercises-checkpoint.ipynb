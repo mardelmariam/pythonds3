{
 "cells": [
  {
   "cell_type": "markdown",
   "id": "cb413908-8b9f-4f8d-b765-895b11f9e9a9",
   "metadata": {},
   "source": [
    "## Stacks"
   ]
  },
  {
   "cell_type": "markdown",
   "id": "a51e6b2e-5f47-4a12-8b50-db6afde85b5e",
   "metadata": {},
   "source": [
    "### Implementation of a stack using Python lists"
   ]
  },
  {
   "cell_type": "code",
   "execution_count": 22,
   "id": "71ea4d1d-0401-4e18-bd7d-bb4671dc20ea",
   "metadata": {},
   "outputs": [],
   "source": [
    "class Stack:\n",
    "    \"\"\"Stack implementation as a list\"\"\"\n",
    "\n",
    "    def __init__(self):\n",
    "        \"\"\"Create new stack\"\"\"\n",
    "        self._items = []\n",
    "\n",
    "    def is_empty(self):\n",
    "        \"\"\"Check if the stack is empty\"\"\"\n",
    "        return not bool(self._items)\n",
    "\n",
    "    def push(self, item):\n",
    "        \"\"\"Add an item to the stack\"\"\"\n",
    "        self._items.append(item)\n",
    "\n",
    "    def pop(self):\n",
    "        \"\"\"Remove an item from the stack\"\"\"\n",
    "        return self._items.pop()\n",
    "\n",
    "    def peek(self):\n",
    "        \"\"\"Get the value of the top item in the stack\"\"\"\n",
    "        return self._items[-1]\n",
    "\n",
    "    def size(self):\n",
    "        \"\"\"Get the number of items in the stack\"\"\"\n",
    "        return len(self._items)\n"
   ]
  },
  {
   "cell_type": "code",
   "execution_count": 23,
   "id": "d57c5310-1936-461b-925c-096c6d9b1006",
   "metadata": {},
   "outputs": [
    {
     "name": "stdout",
     "output_type": "stream",
     "text": [
      "True\n",
      "dog\n",
      "3\n",
      "False\n",
      "8.4\n",
      "True\n",
      "2\n"
     ]
    }
   ],
   "source": [
    "s = Stack()\n",
    "\n",
    "print(s.is_empty())\n",
    "s.push(4)\n",
    "s.push(\"dog\")\n",
    "print(s.peek())\n",
    "s.push(True)\n",
    "print(s.size())\n",
    "print(s.is_empty())\n",
    "s.push(8.4)\n",
    "print(s.pop())\n",
    "print(s.pop())\n",
    "print(s.size())"
   ]
  },
  {
   "cell_type": "markdown",
   "id": "730cdf13-c74b-44ed-8af1-e818094ee04c",
   "metadata": {},
   "source": [
    "### Parenthesis checker"
   ]
  },
  {
   "cell_type": "code",
   "execution_count": 5,
   "id": "9a16f8e1-5731-4846-a15b-e75260250ed0",
   "metadata": {},
   "outputs": [
    {
     "name": "stdout",
     "output_type": "stream",
     "text": [
      "True\n",
      "True\n",
      "False\n",
      "False\n"
     ]
    }
   ],
   "source": [
    "def par_checker(symbol_string):\n",
    "    s = Stack()\n",
    "    for symbol in symbol_string:\n",
    "        if symbol == \"(\":\n",
    "            s.push(symbol)\n",
    "        else:\n",
    "            if s.is_empty():\n",
    "                return False\n",
    "            else:\n",
    "                s.pop()\n",
    "\n",
    "    return s.is_empty()\n",
    "\n",
    "\n",
    "print(par_checker(\"((()))\"))  # expected True\n",
    "print(par_checker(\"((()()))\"))  # expected True\n",
    "print(par_checker(\"(()\"))  # expected False\n",
    "print(par_checker(\")(\"))  # expected False"
   ]
  },
  {
   "cell_type": "markdown",
   "id": "064f1a27-d4c0-4f83-864e-949f87a8a458",
   "metadata": {},
   "source": [
    "### General Symbols checker"
   ]
  },
  {
   "cell_type": "code",
   "execution_count": 16,
   "id": "a003366b-ff48-40cb-bca6-c526eebd4363",
   "metadata": {},
   "outputs": [
    {
     "name": "stdout",
     "output_type": "stream",
     "text": [
      "YES\n",
      "NO\n",
      "NO\n",
      "YES\n",
      "YES\n",
      "YES\n",
      "YES\n"
     ]
    }
   ],
   "source": [
    "def is_balanced(symbol_string):\n",
    "    st = Stack()\n",
    "    for symbol in symbol_string:\n",
    "        if symbol in \"([{\":\n",
    "            st.push(symbol)\n",
    "        else:\n",
    "            if st.is_empty():\n",
    "                return 'NO'\n",
    "            else:\n",
    "                if not matches(st.pop(), symbol):\n",
    "                    return 'NO'\n",
    "\n",
    "    if st.is_empty():\n",
    "        return 'YES'\n",
    "    else:\n",
    "        return 'NO'\n",
    "\n",
    "def matches(sym_left, sym_right):\n",
    "    all_lefts = \"([{\"\n",
    "    all_rights = \")]}\"\n",
    "    return all_lefts.index(sym_left) == all_rights.index(sym_right)\n",
    "\n",
    "\n",
    "print(is_balanced('{({([][])}())}')) # Expected YES\n",
    "print(is_balanced('[{()]')) # Expected NO\n",
    "print(is_balanced('[]([{][][)(])}()([}[}(})}])}))]](}{}})[]({{}}))[])(}}[[{]{}]()[(][])}({]{}[[))[[}[}{(]})()){{(]]){][')) # Expected NO\n",
    "print(is_balanced('[([]){}][({})({[(([])[][])][[{}{([{{}{(()){{{({}{{}}())}}[]}}()[()[{{{([](()){[[[]]]})}}}]]}])}]]})]')) # Expected YES\n",
    "print(is_balanced('([[]][])[[]()][]()(([[]]{[()[]{[][{}]}[()]]{}{[]}}{{}()}(()[([][]{})[[{}][]]{}[]])))')) # Expected YES\n",
    "print(is_balanced('{(()[]){}}(){[]}({{}(()())})([]){}{}(())()[()]{}()')) # Expected YES\n",
    "print(is_balanced('[[{}]]')) # Expected YES"
   ]
  },
  {
   "cell_type": "markdown",
   "id": "f4f5c395-18d1-4564-86f0-275bc9d53db7",
   "metadata": {},
   "source": [
    "### Decimal to binary/octal/hex converter"
   ]
  },
  {
   "cell_type": "code",
   "execution_count": 3,
   "id": "223dfb94-cdff-423e-aba8-fa63e4b51f6c",
   "metadata": {},
   "outputs": [
    {
     "name": "stdout",
     "output_type": "stream",
     "text": [
      "101010\n",
      "11111\n"
     ]
    }
   ],
   "source": [
    "def divide_by_2(decimal_num):\n",
    "    rem_stack = Stack()\n",
    "\n",
    "    while decimal_num > 0:\n",
    "        rem = decimal_num % 2\n",
    "        rem_stack.push(rem)\n",
    "        decimal_num = decimal_num // 2\n",
    "\n",
    "    bin_string = \"\"\n",
    "    while not rem_stack.is_empty():\n",
    "        bin_string = bin_string + str(rem_stack.pop())\n",
    "\n",
    "    return bin_string\n",
    "\n",
    "print(divide_by_2(42))\n",
    "print(divide_by_2(31))"
   ]
  },
  {
   "cell_type": "code",
   "execution_count": 6,
   "id": "018ca466-411d-4a5c-8d42-e839da48c694",
   "metadata": {},
   "outputs": [
    {
     "name": "stdout",
     "output_type": "stream",
     "text": [
      "1111111111111111\n",
      "177777\n",
      "FFFF\n"
     ]
    }
   ],
   "source": [
    "def base_converter(decimal_num, base):\n",
    "    digits = \"0123456789ABCDEF\"\n",
    "    rem_stack = Stack()\n",
    "\n",
    "    while decimal_num > 0:\n",
    "        rem = decimal_num % base\n",
    "        rem_stack.push(rem)\n",
    "        decimal_num = decimal_num // base\n",
    "\n",
    "    new_string = \"\"\n",
    "    while not rem_stack.is_empty():\n",
    "        new_string = new_string + digits[rem_stack.pop()]\n",
    "\n",
    "    return new_string\n",
    "\n",
    "print(base_converter(65535, 2))\n",
    "print(base_converter(65535, 8))\n",
    "print(base_converter(65535, 16))"
   ]
  },
  {
   "cell_type": "markdown",
   "id": "aa4a789b-014b-4458-bc4b-24f9b9d0faed",
   "metadata": {},
   "source": [
    "### Infix to postfix notation"
   ]
  },
  {
   "cell_type": "code",
   "execution_count": 33,
   "id": "9af31091-e1b8-4c4f-bce0-d486113e302e",
   "metadata": {},
   "outputs": [
    {
     "name": "stdout",
     "output_type": "stream",
     "text": [
      "A B * C D * + E +\n",
      "E A B / ( +\n",
      "A B + C * D E - F G + * -\n",
      "9 3 5 * 6 4 - / +\n",
      "5 3 4 2 - ^ *\n"
     ]
    }
   ],
   "source": [
    "def infix_to_postfix(infix_expr):\n",
    "    prec = {}\n",
    "    prec[\"^\"] = 4\n",
    "    prec[\"*\"] = 3\n",
    "    prec[\"/\"] = 3\n",
    "    prec[\"+\"] = 2\n",
    "    prec[\"-\"] = 2\n",
    "    prec[\"(\"] = 1\n",
    "    op_stack = Stack()\n",
    "    postfix_list = []\n",
    "    token_list = infix_expr.split()\n",
    "\n",
    "    for token in token_list:\n",
    "        if token in \"ABCDEFGHIJKLMNOPQRSTUVWXYZ\" or token in \"0123456789\":\n",
    "            postfix_list.append(token)\n",
    "        elif token == \"(\":\n",
    "            op_stack.push(token)\n",
    "        elif token == \")\":\n",
    "            top_token = op_stack.pop()\n",
    "            while top_token != \"(\":\n",
    "                postfix_list.append(top_token)\n",
    "                top_token = op_stack.pop()\n",
    "        else:\n",
    "            while (not op_stack.is_empty()) and (prec[op_stack.peek()] >= prec[token]):\n",
    "                postfix_list.append(op_stack.pop())\n",
    "            op_stack.push(token)\n",
    "\n",
    "    while not op_stack.is_empty():\n",
    "        postfix_list.append(op_stack.pop())\n",
    "\n",
    "    return \" \".join(postfix_list)\n",
    "\n",
    "print(infix_to_postfix(\"A * B + C * D + E\"))\n",
    "print(infix_to_postfix(\"E + ( A / B\"))\n",
    "print(infix_to_postfix(\"( A + B ) * C - ( D - E ) * ( F + G )\"))\n",
    "print(infix_to_postfix(\"9 + ( 3 * 5 ) / ( 6 - 4 )\"))\n",
    "print(infix_to_postfix(\"5 * 3 ^ ( 4 - 2 )\"))"
   ]
  },
  {
   "cell_type": "markdown",
   "id": "5d5755ef-261f-4bf8-8465-043902e26d82",
   "metadata": {},
   "source": [
    "### Postfix evaluation"
   ]
  },
  {
   "cell_type": "code",
   "execution_count": 34,
   "id": "8afd6c96-7842-4bfc-8966-ea757e143553",
   "metadata": {},
   "outputs": [
    {
     "name": "stdout",
     "output_type": "stream",
     "text": [
      "3.0\n",
      "24\n",
      "45\n"
     ]
    }
   ],
   "source": [
    "def postfix_eval(postfix_expr):\n",
    "    operand_stack = Stack()\n",
    "    token_list = postfix_expr.split()\n",
    "\n",
    "    for token in token_list:\n",
    "        if token in \"0123456789\":\n",
    "            operand_stack.push(int(token))\n",
    "        else:\n",
    "            operand2 = operand_stack.pop()\n",
    "            operand1 = operand_stack.pop()\n",
    "            result = do_math(token, operand1, operand2)\n",
    "            operand_stack.push(result)\n",
    "    return operand_stack.pop()\n",
    "\n",
    "\n",
    "def do_math(op, op1, op2):\n",
    "    if op == \"*\":\n",
    "        return op1 * op2\n",
    "    elif op == \"/\":\n",
    "        return op1 / op2\n",
    "    elif op == \"+\":\n",
    "        return op1 + op2\n",
    "    elif op == \"^\":\n",
    "        return op1 ** op2\n",
    "    else:\n",
    "        return op1 - op2\n",
    "\n",
    "\n",
    "print(postfix_eval(\"7 8 + 3 2 + /\"))\n",
    "print(postfix_eval(\"7 1 + 3 *\"))\n",
    "print(postfix_eval(\"5 3 4 2 - ^ *\"))"
   ]
  },
  {
   "cell_type": "markdown",
   "id": "c8561575-ebcc-46cd-9570-913796b3baff",
   "metadata": {},
   "source": [
    "## Queues"
   ]
  },
  {
   "cell_type": "markdown",
   "id": "c275c63c-43a4-42c2-bd39-5b8de46329ab",
   "metadata": {},
   "source": [
    "### Python implementation"
   ]
  },
  {
   "cell_type": "code",
   "execution_count": 44,
   "id": "a528f783-7a75-4b3c-9078-26e18a5df115",
   "metadata": {},
   "outputs": [],
   "source": [
    "class Queue:\n",
    "    \"\"\"Queue implementation as a list\"\"\"\n",
    "\n",
    "    def __init__(self):\n",
    "        \"\"\"Create new queue\"\"\"\n",
    "        self._items = []\n",
    "\n",
    "    def is_empty(self):\n",
    "        \"\"\"Check if the queue is empty\"\"\"\n",
    "        return not bool(self._items)\n",
    "\n",
    "    def enqueue(self, item):\n",
    "        \"\"\"Add an item to the queue\"\"\"\n",
    "        self._items.insert(0, item)\n",
    "\n",
    "    def dequeue(self):\n",
    "        \"\"\"Remove an item from the queue\"\"\"\n",
    "        return self._items.pop()\n",
    "\n",
    "    def size(self):\n",
    "        \"\"\"Get the number of items in the queue\"\"\"\n",
    "        return len(self._items)"
   ]
  },
  {
   "cell_type": "code",
   "execution_count": 35,
   "id": "e3753eca-f187-425b-8213-111e973613b0",
   "metadata": {},
   "outputs": [
    {
     "name": "stdout",
     "output_type": "stream",
     "text": [
      "3\n"
     ]
    }
   ],
   "source": [
    "q = Queue()\n",
    "q.enqueue(4)\n",
    "q.enqueue(\"dog\")\n",
    "q.enqueue(True)\n",
    "print(q.size())"
   ]
  },
  {
   "cell_type": "markdown",
   "id": "29415356-4bda-4ce6-a287-608302ee36ac",
   "metadata": {},
   "source": [
    "A queue may be also implemented as two stacks. A two-stack queue will have an amortized cost of O(1) for each enqueue and dequeue operation, because you will only need to empty the input stack to dequeue an element if the output stack is already empty.\n",
    "\n",
    "Suppose you perform m enqueue operations.\n",
    "\n",
    "The first dequeue operation transfers everything from the input stack to the output stack, so this initial dequeue has a tight asymptotic bound of Big-O(m).\n",
    "\n",
    "Every subsequent dequeue operation, until the output stack is empty, will have a cost of O(1), because it can just be popped from the output stack directly.\n",
    "\n",
    "Once the output queue is empty, the next dequeue would again have a tight asymptotic bound which is dependent upon the number of currently enqueued elements.\n",
    "\n",
    "Compare this to a single-stack queue, which requires that every element be popped from the input stack in order to dequeue an element, for any given dequeue operation."
   ]
  },
  {
   "cell_type": "code",
   "execution_count": 43,
   "id": "2b171138-4cd1-41e6-89a4-ee8bc1aabd50",
   "metadata": {},
   "outputs": [
    {
     "name": "stdin",
     "output_type": "stream",
     "text": [
      " 1\n",
      " 1 16\n"
     ]
    }
   ],
   "source": [
    "class Queue:\n",
    "    def __init__(self, stack_1=[], stack_2=[]):\n",
    "        self.stack_1 = stack_1\n",
    "        self.stack_2 = stack_2\n",
    "\n",
    "    def isEmpty(self):\n",
    "        if not self.stack_1 and not self.stack_2:\n",
    "            return True\n",
    "        return False\n",
    "\n",
    "    def size(self):\n",
    "        return len(self.stack_1) + len(self.stack_2)\n",
    "\n",
    "    def enqueue(self, val):\n",
    "        self.stack_1.append(val)\n",
    "\n",
    "    def dequeue(self):\n",
    "        if not self.stack_2:  # if stack_2 is empty\n",
    "            while len(self.stack_1) > 0:\n",
    "                self.stack_2.append(self.stack_1.pop())\n",
    "        return self.stack_2.pop()\n",
    "\n",
    "    def front(self):\n",
    "        if not self.stack_2:  # if stack_2 is empty\n",
    "            while len(self.stack_1) > 0: \n",
    "                self.stack_2.append(self.stack_1.pop())\n",
    "        print(self.stack_2[-1]) \n",
    "        \n",
    "        \n",
    "if __name__ == '__main__':\n",
    "    t = int(input().strip())\n",
    "    q = Queue()\n",
    "    for t_itr in range(t):\n",
    "        s = input()\n",
    "\n",
    "        if s[0] == \"1\":\n",
    "            val = s.split(\" \")[1]\n",
    "            q.enqueue(val)\n",
    "        elif s[0] == \"2\":\n",
    "            q.dequeue()\n",
    "        elif s[0] == \"3\":\n",
    "            q.front()    "
   ]
  },
  {
   "cell_type": "markdown",
   "id": "7c86ade3-40d0-4a59-b5f4-0b17f4d27983",
   "metadata": {},
   "source": [
    "### Simulation of hot potato game"
   ]
  },
  {
   "cell_type": "code",
   "execution_count": 20,
   "id": "ac418f69-9b53-4d55-8143-780ddb320d09",
   "metadata": {},
   "outputs": [
    {
     "name": "stdout",
     "output_type": "stream",
     "text": [
      "Susan\n"
     ]
    }
   ],
   "source": [
    "def hot_potato(name_list, num):\n",
    "    sim_queue = Queue()\n",
    "    for name in name_list:\n",
    "        sim_queue.enqueue(name)\n",
    "\n",
    "    while sim_queue.size() > 1:\n",
    "        for i in range(num):\n",
    "            sim_queue.enqueue(sim_queue.dequeue())\n",
    "\n",
    "        sim_queue.dequeue()\n",
    "\n",
    "    return sim_queue.dequeue()\n",
    "\n",
    "\n",
    "print(hot_potato([\"Bill\", \"David\", \"Susan\", \"Jane\", \"Kent\", \"Brad\"], 7))"
   ]
  },
  {
   "cell_type": "code",
   "execution_count": 21,
   "id": "0137166b-27af-4229-a29c-0c2a182a7a1a",
   "metadata": {},
   "outputs": [],
   "source": [
    "class Deque:\n",
    "    \"\"\"Deque implementation as a list\"\"\"\n",
    "\n",
    "    def __init__(self):\n",
    "        \"\"\"Create new deque\"\"\"\n",
    "        self._items = []\n",
    "\n",
    "    def is_empty(self):\n",
    "        \"\"\"Check if the deque is empty\"\"\"\n",
    "        return not bool(self._items)\n",
    "\n",
    "    def add_front(self, item):\n",
    "        \"\"\"Add an item to the front of the deque\"\"\"\n",
    "        self._items.append(item)\n",
    "\n",
    "    def add_rear(self, item):\n",
    "        \"\"\"Add an item to the rear of the deque\"\"\"\n",
    "        self._items.insert(0, item)\n",
    "\n",
    "    def remove_front(self):\n",
    "        \"\"\"Remove an item from the front of the deque\"\"\"\n",
    "        return self._items.pop()\n",
    "\n",
    "    def remove_rear(self):\n",
    "        \"\"\"Remove an item from the rear of the deque\"\"\"\n",
    "        return self._items.pop(0)\n",
    "\n",
    "    def size(self):\n",
    "        \"\"\"Get the number of items in the deque\"\"\"\n",
    "        return len(self._items)"
   ]
  },
  {
   "cell_type": "markdown",
   "id": "b6552187-bbee-4d93-b5eb-e72acc5dabdd",
   "metadata": {},
   "source": [
    "### Simulation of a printer's capacity of printing pages (with many clients sending pages)"
   ]
  },
  {
   "cell_type": "code",
   "execution_count": 45,
   "id": "45eb2515-4dd6-46e0-b95c-7e47123d482a",
   "metadata": {},
   "outputs": [],
   "source": [
    "class Task:\n",
    "    def __init__(self, time):\n",
    "        self.timestamp = time\n",
    "        self.pages = random.randrange(1, 21)\n",
    "\n",
    "    def get_stamp(self):\n",
    "        return self.timestamp\n",
    "\n",
    "    def get_pages(self):\n",
    "        return self.pages\n",
    "\n",
    "    def wait_time(self, current_time):\n",
    "        return current_time - self.timestamp"
   ]
  },
  {
   "cell_type": "code",
   "execution_count": 46,
   "id": "24548500-79e7-48ea-90e5-bcc435c441ee",
   "metadata": {},
   "outputs": [],
   "source": [
    "class Printer:\n",
    "    def __init__(self, ppm):\n",
    "        self.page_rate = ppm\n",
    "        self.current_task = None\n",
    "        self.time_remaining = 0\n",
    "\n",
    "    def tick(self):\n",
    "        if self.current_task is not None:\n",
    "            self.time_remaining = self.time_remaining - 1\n",
    "            if self.time_remaining <= 0:\n",
    "                self.current_task = None\n",
    "\n",
    "    def busy(self):\n",
    "        return self.current_task is not None\n",
    "\n",
    "    def start_next(self, new_task):\n",
    "        self.current_task = new_task\n",
    "        self.time_remaining = new_task.get_pages() * 60 / self.page_rate"
   ]
  },
  {
   "cell_type": "code",
   "execution_count": 47,
   "id": "bf4b8b56-8a90-470f-b2c9-24d232633948",
   "metadata": {},
   "outputs": [
    {
     "name": "stdout",
     "output_type": "stream",
     "text": [
      "Average Wait  60.38 secs  0 tasks remaining.\n",
      "Average Wait  73.64 secs  0 tasks remaining.\n",
      "Average Wait 112.92 secs  0 tasks remaining.\n",
      "Average Wait 230.71 secs  4 tasks remaining.\n",
      "Average Wait  28.47 secs  0 tasks remaining.\n",
      "Average Wait 121.11 secs  2 tasks remaining.\n",
      "Average Wait 585.63 secs  8 tasks remaining.\n",
      "Average Wait  59.00 secs  0 tasks remaining.\n",
      "Average Wait 129.04 secs  3 tasks remaining.\n",
      "Average Wait  81.19 secs  0 tasks remaining.\n"
     ]
    }
   ],
   "source": [
    "import random\n",
    "\n",
    "def simulation(num_seconds, pages_per_minute):\n",
    "    lab_printer = Printer(pages_per_minute)\n",
    "    print_queue = Queue()\n",
    "    waiting_times = []\n",
    "\n",
    "    for current_second in range(num_seconds):\n",
    "        if new_print_task():\n",
    "            task = Task(current_second)\n",
    "            print_queue.enqueue(task)\n",
    "\n",
    "        if (not lab_printer.busy()) and (not print_queue.is_empty()):\n",
    "            nexttask = print_queue.dequeue()\n",
    "            waiting_times.append(nexttask.wait_time(current_second))\n",
    "            lab_printer.start_next(nexttask)\n",
    "\n",
    "        lab_printer.tick()\n",
    "\n",
    "    average_wait = sum(waiting_times) / len(waiting_times)\n",
    "    print(\n",
    "        f\"Average Wait {average_wait:6.2f} secs\" \\\n",
    "        + f\"{print_queue.size():3d} tasks remaining.\"\n",
    "    )\n",
    "\n",
    "\n",
    "def new_print_task():\n",
    "    num = random.randrange(1, 181)\n",
    "    return num == 180\n",
    "\n",
    "\n",
    "for i in range(10):\n",
    "    simulation(3600, 5)"
   ]
  },
  {
   "cell_type": "markdown",
   "id": "293a8630-a320-4448-bbe3-221a6e57843c",
   "metadata": {},
   "source": [
    "## Deques"
   ]
  },
  {
   "cell_type": "markdown",
   "id": "951df570-0e3b-437c-8dbd-237977b01df7",
   "metadata": {},
   "source": [
    "### Python implementation"
   ]
  },
  {
   "cell_type": "code",
   "execution_count": 49,
   "id": "0c2a7ea6-884d-4089-acaa-08c81dd9212b",
   "metadata": {},
   "outputs": [],
   "source": [
    "class Deque:\n",
    "    \"\"\"Deque implementation as a list\"\"\"\n",
    "\n",
    "    def __init__(self):\n",
    "        \"\"\"Create new deque\"\"\"\n",
    "        self._items = []\n",
    "\n",
    "    def is_empty(self):\n",
    "        \"\"\"Check if the deque is empty\"\"\"\n",
    "        return not bool(self._items)\n",
    "\n",
    "    def add_front(self, item):\n",
    "        \"\"\"Add an item to the front of the deque\"\"\"\n",
    "        self._items.append(item)\n",
    "\n",
    "    def add_rear(self, item):\n",
    "        \"\"\"Add an item to the rear of the deque\"\"\"\n",
    "        self._items.insert(0, item)\n",
    "\n",
    "    def remove_front(self):\n",
    "        \"\"\"Remove an item from the front of the deque\"\"\"\n",
    "        return self._items.pop()\n",
    "\n",
    "    def remove_rear(self):\n",
    "        \"\"\"Remove an item from the rear of the deque\"\"\"\n",
    "        return self._items.pop(0)\n",
    "\n",
    "    def size(self):\n",
    "        \"\"\"Get the number of items in the deque\"\"\"\n",
    "        return len(self._items)"
   ]
  },
  {
   "cell_type": "code",
   "execution_count": 50,
   "id": "1a7048ee-2142-417a-a01e-df284880d7db",
   "metadata": {},
   "outputs": [
    {
     "name": "stdout",
     "output_type": "stream",
     "text": [
      "True\n",
      "4\n",
      "False\n",
      "8.4\n",
      "True\n"
     ]
    }
   ],
   "source": [
    "d=Deque()\n",
    "print(d.is_empty())\n",
    "d.add_rear(4)\n",
    "d.add_rear('dog')\n",
    "d.add_front('cat')\n",
    "d.add_front(True)\n",
    "print(d.size())\n",
    "print(d.is_empty())\n",
    "d.add_rear(8.4)\n",
    "print(d.remove_rear())\n",
    "print(d.remove_front())"
   ]
  },
  {
   "cell_type": "markdown",
   "id": "52ff34f2-bcde-4fc7-a2e1-e5b3e94818b4",
   "metadata": {},
   "source": [
    "### Palindrome checker with deque"
   ]
  },
  {
   "cell_type": "code",
   "execution_count": 51,
   "id": "5e742b12-0969-420e-8657-de4336e717d6",
   "metadata": {},
   "outputs": [
    {
     "name": "stdout",
     "output_type": "stream",
     "text": [
      "False\n",
      "True\n"
     ]
    }
   ],
   "source": [
    "def pal_checker(a_string):\n",
    "    char_deque = Deque()\n",
    "\n",
    "    for ch in a_string:\n",
    "        char_deque.add_rear(ch)\n",
    "\n",
    "    while char_deque.size() > 1:\n",
    "        first = char_deque.remove_front()\n",
    "        last = char_deque.remove_rear()\n",
    "        if first != last:\n",
    "            return False\n",
    "\n",
    "    return True\n",
    "\n",
    "print(pal_checker(\"lsdkjfskf\"))\n",
    "print(pal_checker(\"radar\"))\n"
   ]
  },
  {
   "cell_type": "markdown",
   "id": "450d1f93-85a0-4baa-8da0-e1324b6e0905",
   "metadata": {},
   "source": [
    "## Linked list"
   ]
  },
  {
   "cell_type": "code",
   "execution_count": 53,
   "id": "79912e14-5070-4ab1-8360-386b5e73b779",
   "metadata": {},
   "outputs": [],
   "source": [
    "class Node:\n",
    "    \"\"\"A node of a linked list\"\"\"\n",
    "\n",
    "    def __init__(self, node_data):\n",
    "        self._data = node_data\n",
    "        self._next = None\n",
    "\n",
    "    def get_data(self):\n",
    "        \"\"\"Get node data\"\"\"\n",
    "        return self._data\n",
    "\n",
    "    def set_data(self, node_data):\n",
    "        \"\"\"Set node data\"\"\"\n",
    "        self._data = node_data\n",
    "\n",
    "    data = property(get_data, set_data)\n",
    "\n",
    "    def get_next(self):\n",
    "        \"\"\"Get next node\"\"\"\n",
    "        return self._next\n",
    "\n",
    "    def set_next(self, node_next):\n",
    "        \"\"\"Set next node\"\"\"\n",
    "        self._next = node_next\n",
    "\n",
    "    next = property(get_next, set_next)\n",
    "\n",
    "    def __str__(self):\n",
    "        \"\"\"String\"\"\"\n",
    "        return str(self._data)\n",
    "\n",
    "\n",
    "class UnorderedList:\n",
    "    def __init__(self):\n",
    "        self.head = None\n",
    "\n",
    "    def is_empty(self):\n",
    "        return self.head == None\n",
    "\n",
    "    def add(self, item):\n",
    "        temp = Node(item)\n",
    "        temp.set_next(self.head)\n",
    "        self.head = temp\n",
    "\n",
    "    def size(self):\n",
    "        current = self.head\n",
    "        count = 0\n",
    "        while current is not None:\n",
    "            count = count + 1\n",
    "            current = current.next\n",
    "\n",
    "        return count\n",
    "\n",
    "    def search(self, item):\n",
    "        current = self.head\n",
    "        while current is not None:\n",
    "            if current.data == item:\n",
    "                return True\n",
    "            current = current.next\n",
    "\n",
    "        return False\n",
    "\n",
    "    def remove(self, item):\n",
    "        current = self.head\n",
    "        previous = None\n",
    "\n",
    "        while current is not None:\n",
    "            if current.data == item:\n",
    "                break\n",
    "            previous = current\n",
    "            current = current.next\n",
    "\n",
    "        if current is None:\n",
    "            raise ValueError(\"{} is not in the list\".format(item))\n",
    "        if previous is None:\n",
    "            self.head = current.next\n",
    "        else:\n",
    "            previous.next = current.next"
   ]
  },
  {
   "cell_type": "code",
   "execution_count": 54,
   "id": "7755006d-7bd4-4cb5-898a-6fb9654b18c4",
   "metadata": {},
   "outputs": [
    {
     "name": "stdout",
     "output_type": "stream",
     "text": [
      "6\n",
      "True\n",
      "False\n",
      "True\n",
      "7\n",
      "6\n",
      "5\n",
      "4\n",
      "False\n",
      "27 is not in the list\n"
     ]
    }
   ],
   "source": [
    "my_list = UnorderedList()\n",
    "\n",
    "my_list.add(31)\n",
    "my_list.add(77)\n",
    "my_list.add(17)\n",
    "my_list.add(93)\n",
    "my_list.add(26)\n",
    "my_list.add(54)\n",
    "\n",
    "print(my_list.size())\n",
    "print(my_list.search(93))\n",
    "print(my_list.search(100))\n",
    "\n",
    "my_list.add(100)\n",
    "print(my_list.search(100))\n",
    "print(my_list.size())\n",
    "\n",
    "my_list.remove(54)\n",
    "print(my_list.size())\n",
    "my_list.remove(93)\n",
    "print(my_list.size())\n",
    "my_list.remove(31)\n",
    "print(my_list.size())\n",
    "print(my_list.search(93))\n",
    "\n",
    "try:\n",
    "    my_list.remove(27)\n",
    "except ValueError as ve:\n",
    "    print(ve)"
   ]
  },
  {
   "cell_type": "code",
   "execution_count": 55,
   "id": "74f263a9-37a8-4e06-9fa4-5ae7378b9252",
   "metadata": {},
   "outputs": [],
   "source": [
    "class Node:\n",
    "    \"\"\"A node of a linked list\"\"\"\n",
    "\n",
    "    def __init__(self, node_data):\n",
    "        self._data = node_data\n",
    "        self._next = None\n",
    "\n",
    "    def get_data(self):\n",
    "        \"\"\"Get node data\"\"\"\n",
    "        return self._data\n",
    "\n",
    "    def set_data(self, node_data):\n",
    "        \"\"\"Set node data\"\"\"\n",
    "        self._data = node_data\n",
    "\n",
    "    data = property(get_data, set_data)\n",
    "\n",
    "    def get_next(self):\n",
    "        \"\"\"Get next node\"\"\"\n",
    "        return self._next\n",
    "\n",
    "    def set_next(self, node_next):\n",
    "        \"\"\"Set next node\"\"\"\n",
    "        self._next = node_next\n",
    "\n",
    "    next = property(get_next, set_next)\n",
    "\n",
    "    def __str__(self):\n",
    "        \"\"\"String\"\"\"\n",
    "        return str(self._data)\n",
    "\n",
    "\n",
    "class OrderedList:\n",
    "    \"\"\"Ordered linked list implementation\"\"\"\n",
    "    def __init__(self):\n",
    "        self.head = None\n",
    "\n",
    "    def search(self, item):\n",
    "        \"\"\"Search for a node with a specific value\"\"\"\n",
    "        current = self.head\n",
    "        while current is not None:\n",
    "            if current.data == item:\n",
    "                return True\n",
    "            if current.data > item:\n",
    "                return False\n",
    "            current = current.next\n",
    "\n",
    "        return False\n",
    "\n",
    "    def add(self, item):\n",
    "        \"\"\"Add a new node\"\"\"\n",
    "        current = self.head\n",
    "        previous = None\n",
    "        temp = Node(item)\n",
    "\n",
    "        while current is not None and current.data < item:\n",
    "            previous = current\n",
    "            current = current.next\n",
    "\n",
    "        if previous is None:\n",
    "            temp.next = self.head\n",
    "            self.head = temp\n",
    "        else:\n",
    "            temp.next = current\n",
    "            previous.next = temp\n",
    "\n",
    "    def is_empty(self):\n",
    "        \"\"\"Is the list empty\"\"\"\n",
    "        return self.head == None\n",
    "\n",
    "    def size(self):\n",
    "        \"\"\"Size of the list\"\"\"\n",
    "        current = self.head\n",
    "        count = 0\n",
    "        while current is not None:\n",
    "            count = count + 1\n",
    "            current = current.next\n",
    "\n",
    "        return count\n"
   ]
  },
  {
   "cell_type": "code",
   "execution_count": 56,
   "id": "45334aba-6f79-44a8-850d-ac9668e9a9bc",
   "metadata": {},
   "outputs": [
    {
     "name": "stdout",
     "output_type": "stream",
     "text": [
      "6\n",
      "True\n",
      "False\n"
     ]
    }
   ],
   "source": [
    "my_list = OrderedList()\n",
    "my_list.add(31)\n",
    "my_list.add(77)\n",
    "my_list.add(17)\n",
    "my_list.add(93)\n",
    "my_list.add(26)\n",
    "my_list.add(54)\n",
    "\n",
    "print(my_list.size())\n",
    "print(my_list.search(93))\n",
    "print(my_list.search(100))"
   ]
  },
  {
   "cell_type": "code",
   "execution_count": null,
   "id": "27185d28-5da9-41d3-bc6f-fe8a15a9fdb3",
   "metadata": {},
   "outputs": [],
   "source": []
  }
 ],
 "metadata": {
  "kernelspec": {
   "display_name": "Python 3 (ipykernel)",
   "language": "python",
   "name": "python3"
  },
  "language_info": {
   "codemirror_mode": {
    "name": "ipython",
    "version": 3
   },
   "file_extension": ".py",
   "mimetype": "text/x-python",
   "name": "python",
   "nbconvert_exporter": "python",
   "pygments_lexer": "ipython3",
   "version": "3.10.13"
  }
 },
 "nbformat": 4,
 "nbformat_minor": 5
}
