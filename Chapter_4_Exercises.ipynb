{
 "cells": [
  {
   "cell_type": "markdown",
   "id": "26ab0798-738b-4c80-aaf0-b09be3590599",
   "metadata": {},
   "source": [
    "## Recursion"
   ]
  },
  {
   "cell_type": "markdown",
   "id": "29c698c8-1dfb-4c63-a143-af61452decae",
   "metadata": {},
   "source": [
    "All recursive algorithms must obey three important laws:\r\n",
    "\r\n",
    "A recursive algorithm must have a base ca: A base case is the condition that allows the algorithm to stop recursing.e.\r\n",
    "\r\n",
    "A recursive algorithm must change its state and move toward the base : the algorithm's input is modified in each iteration.ase.\r\n",
    "\r\n",
    "A recursive algorithm must call itself recurively."
   ]
  },
  {
   "cell_type": "markdown",
   "id": "0df43100-128d-4977-9e55-7feeb72ec16a",
   "metadata": {},
   "source": [
    "### Converting numbers to other bases"
   ]
  },
  {
   "cell_type": "code",
   "execution_count": 1,
   "id": "dba6686e-ccf8-47e9-8b57-817ad519ac59",
   "metadata": {},
   "outputs": [
    {
     "name": "stdout",
     "output_type": "stream",
     "text": [
      "5AD\n"
     ]
    }
   ],
   "source": [
    "def to_str(n, base):\n",
    "    convert_string = \"0123456789ABCDEF\"\n",
    "    if n < base:\n",
    "        return convert_string[n]\n",
    "    else:\n",
    "        return to_str(n // base, base) + convert_string[n % base]\n",
    "\n",
    "print(to_str(1453, 16))"
   ]
  },
  {
   "cell_type": "markdown",
   "id": "68f4ef22-d0c6-47ea-a942-5793d6b9b42f",
   "metadata": {},
   "source": [
    "### Reversing strings"
   ]
  },
  {
   "cell_type": "code",
   "execution_count": 5,
   "id": "5539a83a-fe92-4636-a938-533c7c367ad4",
   "metadata": {},
   "outputs": [
    {
     "name": "stdout",
     "output_type": "stream",
     "text": [
      "H\n",
      "oH\n",
      "loH\n",
      "aloH\n"
     ]
    }
   ],
   "source": [
    "def reverse_string(str: str) -> str:\n",
    "    n = len(str)\n",
    "    if len(str)<=1:\n",
    "        return str\n",
    "    else:\n",
    "        return str[n-1] + reverse_string(str[:n-1])\n",
    "\n",
    "print(reverse_string('H'))\n",
    "print(reverse_string('Ho'))\n",
    "print(reverse_string('Hol'))\n",
    "print(reverse_string('Hola'))"
   ]
  },
  {
   "cell_type": "code",
   "execution_count": 6,
   "id": "8bd8e554-dbe7-4118-8a1f-98939a8ca6b4",
   "metadata": {},
   "outputs": [
    {
     "name": "stdout",
     "output_type": "stream",
     "text": [
      "True\n",
      "False\n",
      "True\n"
     ]
    }
   ],
   "source": [
    "def is_palindrome(s):\n",
    "    \n",
    "    def reverse_string(str: str) -> str:\n",
    "        n = len(str)\n",
    "        if len(str)<=1:\n",
    "            return str\n",
    "        else:\n",
    "            return str[n-1] + reverse_string(str[:n-1])\n",
    "\n",
    "    s_reversed = reverse_string(s)\n",
    "    \n",
    "    return s == s_reversed\n",
    "\n",
    "print(is_palindrome(\"radar\"))\n",
    "print(is_palindrome(\"hello\"))\n",
    "print(is_palindrome(\"hannah\"))"
   ]
  },
  {
   "cell_type": "markdown",
   "id": "e24f6aa7-942d-49e3-bca1-df0724b4d623",
   "metadata": {},
   "source": [
    "### Tower of Hanoi"
   ]
  },
  {
   "cell_type": "code",
   "execution_count": 7,
   "id": "e5a747a9-1858-4f7d-9c73-b5282dd57dce",
   "metadata": {},
   "outputs": [
    {
     "name": "stdout",
     "output_type": "stream",
     "text": [
      "moving disk from A to B\n",
      "moving disk from A to C\n",
      "moving disk from B to C\n",
      "moving disk from A to B\n",
      "moving disk from C to A\n",
      "moving disk from C to B\n",
      "moving disk from A to B\n"
     ]
    }
   ],
   "source": [
    "def move_tower(height, from_pole, to_pole, with_pole):\n",
    "    if height >= 1:\n",
    "        move_tower(height - 1, from_pole, with_pole, to_pole)\n",
    "        move_disk(from_pole, to_pole)\n",
    "        move_tower(height - 1, with_pole, to_pole, from_pole)\n",
    "\n",
    "\n",
    "def move_disk(from_p, to_p):\n",
    "    print(\"moving disk from\", from_p, \"to\", to_p)\n",
    "\n",
    "\n",
    "move_tower(3, \"A\", \"B\", \"C\")"
   ]
  },
  {
   "cell_type": "markdown",
   "id": "4e240924-249c-453b-a785-c9f04a0dba78",
   "metadata": {},
   "source": [
    "## Dynamic programming and greedy methods"
   ]
  },
  {
   "cell_type": "markdown",
   "id": "d7f304e1-1db3-4486-82aa-c1bdcaa75117",
   "metadata": {},
   "source": [
    "Giving change in a vending machine"
   ]
  },
  {
   "cell_type": "code",
   "execution_count": 17,
   "id": "43d2e497-a5dd-46f2-9dc0-e8e6dc74ac70",
   "metadata": {},
   "outputs": [
    {
     "name": "stdout",
     "output_type": "stream",
     "text": [
      "6\n"
     ]
    }
   ],
   "source": [
    "def minimum_coins(coin_value_list, change, known_results):\n",
    "    min_coins = change\n",
    "    if change in coin_value_list:\n",
    "        known_results[change] = 1\n",
    "        return 1\n",
    "    elif known_results[change] > 0:\n",
    "        return known_results[change]\n",
    "    else:\n",
    "        for i in [c for c in coin_value_list if c <= change]:\n",
    "            num_coins = 1 + minimum_coins(coin_value_list, change - i, known_results)\n",
    "            if num_coins < min_coins:\n",
    "                min_coins = num_coins\n",
    "            known_results[change] = min_coins\n",
    "    return min_coins\n",
    "\n",
    "print(minimum_coins([1, 5, 10, 25], 63, [0] * 64))"
   ]
  },
  {
   "cell_type": "code",
   "execution_count": 20,
   "id": "bcb910d6-e8e5-4a0f-8542-028c92726039",
   "metadata": {},
   "outputs": [
    {
     "name": "stdout",
     "output_type": "stream",
     "text": [
      "6\n"
     ]
    }
   ],
   "source": [
    "# Dynamic programming solution\n",
    "def make_change_3(coin_value_list, change, min_coins):\n",
    "   for cents in range(change + 1):\n",
    "      coin_count = cents\n",
    "      for j in [c for c in coin_value_list if c <= cents]:\n",
    "            if min_coins[cents - j] + 1 < coin_count:\n",
    "               coin_count = min_coins[cents - j] + 1\n",
    "      min_coins[cents] = coin_count\n",
    "   return min_coins[change]\n",
    "\n",
    "print(make_change_3([1, 5, 10, 25], 63, [0] * 64))   "
   ]
  },
  {
   "cell_type": "code",
   "execution_count": 15,
   "id": "133701e3-74ac-4e78-b393-ae30d7ca4a19",
   "metadata": {},
   "outputs": [
    {
     "name": "stdout",
     "output_type": "stream",
     "text": [
      "Making change for 63 requires the following 3 coins: 21 21 21 \n",
      "The used list is as follows:\n",
      "[1, 1, 1, 1, 1, 5, 1, 1, 1, 1, 10, 1, 1, 1, 1, 5, 1, 1, 1, 1, 10, 21, 1, 1, 1, 25, 1, 1, 1, 1, 5, 10, 1, 1, 1, 10, 1, 1, 1, 1, 5, 10, 21, 1, 1, 10, 21, 1, 1, 1, 25, 1, 10, 1, 1, 5, 10, 1, 1, 1, 10, 1, 10, 21]\n"
     ]
    }
   ],
   "source": [
    "def make_change_4(coin_value_list, change, min_coins, coins_used):\n",
    "    for cents in range(change + 1):\n",
    "        coin_count = cents\n",
    "        new_coin = 1\n",
    "        for j in [c for c in coin_value_list if c <= cents]:\n",
    "            if min_coins[cents - j] + 1 < coin_count:\n",
    "                coin_count = min_coins[cents - j] + 1\n",
    "                new_coin = j\n",
    "        min_coins[cents] = coin_count\n",
    "        coins_used[cents] = new_coin\n",
    "    return min_coins[change]\n",
    "\n",
    "\n",
    "def print_coins(coins_used, change):\n",
    "    coin = change\n",
    "    while coin > 0:\n",
    "        this_coin = coins_used[coin]\n",
    "        print(this_coin, end=\" \")\n",
    "        coin = coin - this_coin\n",
    "    print()\n",
    "\n",
    "\n",
    "def main():\n",
    "    amnt = 63\n",
    "    clist = [1, 5, 10, 21, 25]\n",
    "    coins_used = [0] * (amnt + 1)\n",
    "    coin_count = [0] * (amnt + 1)\n",
    "\n",
    "    print(\n",
    "       \"Making change for {} requires the following {} coins: \".format(\n",
    "             amnt, make_change_4(clist, amnt, coin_count, coins_used)\n",
    "       ),\n",
    "       end=\"\",\n",
    "    )\n",
    "    print_coins(coins_used, amnt)\n",
    "    \n",
    "    print(\"The used list is as follows:\")\n",
    "    print(coins_used)\n",
    "\n",
    "\n",
    "main()\n"
   ]
  },
  {
   "cell_type": "markdown",
   "id": "b9cd2220-9879-4400-b255-0edc23a64c33",
   "metadata": {},
   "source": [
    "Recursion is not always the answer. Sometimes a recursive solution may be more computationally expensive than an alternative algorithm."
   ]
  },
  {
   "cell_type": "code",
   "execution_count": 16,
   "id": "7fa65686-557d-44ac-8270-87481d2ff17e",
   "metadata": {},
   "outputs": [
    {
     "name": "stdout",
     "output_type": "stream",
     "text": [
      "Making change for 33 requires the following 2 coins: 8 25 \n",
      "The used list is as follows:\n",
      "[1, 1, 1, 1, 1, 5, 1, 1, 8, 1, 10, 1, 1, 5, 1, 5, 8, 1, 8, 1, 10, 21, 1, 1, 8, 25, 1, 1, 8, 8, 5, 10, 1, 8]\n"
     ]
    }
   ],
   "source": [
    "def main():\n",
    "    amnt = 33\n",
    "    clist = [1, 5, 8, 10, 21, 25]\n",
    "    coins_used = [0] * (amnt + 1)\n",
    "    coin_count = [0] * (amnt + 1)\n",
    "\n",
    "    print(\n",
    "       \"Making change for {} requires the following {} coins: \".format(\n",
    "             amnt, make_change_4(clist, amnt, coin_count, coins_used)\n",
    "       ),\n",
    "       end=\"\",\n",
    "    )\n",
    "    print_coins(coins_used, amnt)\n",
    "    \n",
    "    print(\"The used list is as follows:\")\n",
    "    print(coins_used)\n",
    "\n",
    "\n",
    "main()"
   ]
  },
  {
   "cell_type": "code",
   "execution_count": 95,
   "id": "65b5c15a-4a12-4fe1-b434-af2583087da8",
   "metadata": {},
   "outputs": [
    {
     "name": "stdout",
     "output_type": "stream",
     "text": [
      "                                                        1                                                        \n",
      "\n",
      "\n",
      "                                                      1   1                                                      \n",
      "\n",
      "\n",
      "                                                    1   2   1                                                    \n",
      "\n",
      "\n",
      "                                                  1   3   3   1                                                  \n",
      "\n",
      "\n",
      "                                                1   4   6   4   1                                                \n",
      "\n",
      "\n",
      "                                             1   5   10   10   5   1                                             \n",
      "\n",
      "\n",
      "                                           1   6   15   20   15   6   1                                          \n",
      "\n",
      "\n",
      "                                        1   7   21   35   35   21   7   1                                        \n",
      "\n",
      "\n",
      "                                      1   8   28   56   70   56   28   8   1                                     \n",
      "\n",
      "\n",
      "                                  1   9   36   84   126   126   84   36   9   1                                  \n",
      "\n",
      "\n",
      "                             1   10   45   120   210   252   210   120   45   10   1                             \n",
      "\n",
      "\n",
      "                          1   11   55   165   330   462   462   330   165   55   11   1                          \n",
      "\n",
      "\n",
      "                       1   12   66   220   495   792   924   792   495   220   66   12   1                       \n",
      "\n",
      "\n",
      "                  1   13   78   286   715   1287   1716   1716   1287   715   286   78   13   1                  \n",
      "\n",
      "\n",
      "              1   14   91   364   1001   2002   3003   3432   3003   2002   1001   364   91   14   1             \n",
      "\n",
      "\n"
     ]
    }
   ],
   "source": [
    "def pascal_triangle(n_rows):\n",
    "\n",
    "    pascal_rows = []\n",
    "\n",
    "    if n_rows >= 1:\n",
    "        for c in range(1, n_rows+1):\n",
    "            if c<=2:\n",
    "                rows = [1] * c\n",
    "                pascal_rows.append(rows)\n",
    "            else:\n",
    "                rows = pascal_rows[-1]\n",
    "                temp_rows = [1] * c\n",
    "                for k in range(1, c-1):\n",
    "                    temp_rows[k] = rows[k-1] + rows[k]\n",
    "                pascal_rows.append(temp_rows)\n",
    "        \n",
    "    if len(pascal_rows)==1:\n",
    "        print(rows[0])\n",
    "    else:\n",
    "        max_len = 1 + (len(pascal_rows)-1)*8\n",
    "\n",
    "        for i in range(n_rows):\n",
    "            printed_row = str(pascal_rows[i][0])\n",
    "            for j in range(1, len(pascal_rows[i])):\n",
    "                printed_row += f\"   {pascal_rows[i][j]}\"\n",
    "            print(printed_row.center(max_len, \" \"))\n",
    "            print('\\n')\n",
    "\n",
    "\n",
    "pascal_triangle(15)\n"
   ]
  },
  {
   "cell_type": "code",
   "execution_count": null,
   "id": "7a714e34-447a-468a-a7cf-042e332869eb",
   "metadata": {},
   "outputs": [],
   "source": []
  }
 ],
 "metadata": {
  "kernelspec": {
   "display_name": "Python 3 (ipykernel)",
   "language": "python",
   "name": "python3"
  },
  "language_info": {
   "codemirror_mode": {
    "name": "ipython",
    "version": 3
   },
   "file_extension": ".py",
   "mimetype": "text/x-python",
   "name": "python",
   "nbconvert_exporter": "python",
   "pygments_lexer": "ipython3",
   "version": "3.10.16"
  }
 },
 "nbformat": 4,
 "nbformat_minor": 5
}
