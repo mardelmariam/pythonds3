{
 "cells": [
  {
   "cell_type": "markdown",
   "id": "39ac621a-e08c-4e5a-b70c-9422792553ce",
   "metadata": {},
   "source": [
    "### Binary search"
   ]
  },
  {
   "cell_type": "markdown",
   "id": "11b5506d-6c60-422a-85b2-2ce2e8804993",
   "metadata": {},
   "source": [
    "Non-recursive implementation"
   ]
  },
  {
   "cell_type": "code",
   "execution_count": 8,
   "id": "59ab82ad-2ca3-45ec-9b20-8590cab5b87a",
   "metadata": {},
   "outputs": [
    {
     "name": "stdout",
     "output_type": "stream",
     "text": [
      "False\n",
      "True\n"
     ]
    }
   ],
   "source": [
    "def binary_search(a_list, item):\n",
    "    first = 0\n",
    "    last = len(a_list) - 1\n",
    "    \n",
    "    while first <= last:\n",
    "        midpoint = (first + last) // 2\n",
    "        if a_list[midpoint] == item:\n",
    "            return True\n",
    "        elif item < a_list[midpoint]:\n",
    "            last = midpoint - 1\n",
    "        else:\n",
    "            first = midpoint + 1\n",
    "            \n",
    "    return False\n",
    "    \n",
    "\n",
    "test_list = [0, 1, 2, 8, 13, 17, 19, 32, 42]\n",
    "print(binary_search(test_list, 3))\n",
    "print(binary_search(test_list, 13))\n"
   ]
  },
  {
   "cell_type": "markdown",
   "id": "49c2fb2c-86d3-45b4-84ec-f65cd2c73735",
   "metadata": {},
   "source": [
    "## Hashing"
   ]
  },
  {
   "cell_type": "markdown",
   "id": "1016a62d-bbac-4add-909b-c4d3c28c8efa",
   "metadata": {},
   "source": [
    "Purpose: building a data structure that can be searched in O(1) time.\n",
    "\n",
    "A **hash table** is a collection of items which are stored in such a way to make it easy to find them later.\n",
    "\n",
    "Each position of the hash table, often called a **slot**, can hold an item and is named by an integer value starting at 0. \n",
    "\n",
    "The mapping between an item and the slot where that item belons in the hash table is called the **hash function**. The hash function will take any item in the collection and return an integer in the range of slot names between 0 and the size of the hash table."
   ]
  },
  {
   "cell_type": "markdown",
   "id": "fabb8160-208e-46b9-84c3-6ed7512b5b9d",
   "metadata": {},
   "source": [
    "## Sorting algorithms"
   ]
  },
  {
   "cell_type": "code",
   "execution_count": 11,
   "id": "81ae9f41-def3-49be-b523-15b806e2979c",
   "metadata": {},
   "outputs": [
    {
     "name": "stdout",
     "output_type": "stream",
     "text": [
      "[17, 20, 26, 31, 44, 54, 55, 77, 93]\n"
     ]
    }
   ],
   "source": [
    "# Bubble sort - O(n^2) complexity\n",
    "\n",
    "def bubble_sort(a_list):\n",
    "    for i in range(len(a_list) - 1, 0, -1):\n",
    "        for j in range(i):\n",
    "            if a_list[j] > a_list[j + 1]:\n",
    "                temp = a_list[j]\n",
    "                a_list[j] = a_list[j + 1]\n",
    "                a_list[j + 1] = temp\n",
    "\n",
    "\n",
    "a_list = [54, 26, 93, 17, 77, 31, 44, 55, 20]\n",
    "bubble_sort(a_list)\n",
    "print(a_list)\n"
   ]
  },
  {
   "cell_type": "code",
   "execution_count": 16,
   "id": "ef66e0db-3b76-497f-9ae5-25b30a5fc033",
   "metadata": {},
   "outputs": [
    {
     "name": "stdout",
     "output_type": "stream",
     "text": [
      "[17, 20, 26, 31, 44, 54, 55, 77, 93]\n"
     ]
    }
   ],
   "source": [
    "# Selection sort - O(n^2)\n",
    "\n",
    "def selection_sort(a_list):\n",
    "    for i, item in enumerate(a_list):\n",
    "        min_idx = len(a_list) - 1\n",
    "        for j in range(i, len(a_list)):\n",
    "            if a_list[j] < a_list[min_idx]:\n",
    "                min_idx = j\n",
    "        if min_idx != i:\n",
    "            a_list[min_idx], a_list[i] = a_list[i], a_list[min_idx]\n",
    "\n",
    "\n",
    "a_list = [54, 26, 93, 17, 77, 31, 44, 55, 20]\n",
    "selection_sort(a_list)\n",
    "print(a_list)"
   ]
  },
  {
   "cell_type": "code",
   "execution_count": 15,
   "id": "782bd575-4f3d-4266-a156-c2f1fa93ec89",
   "metadata": {},
   "outputs": [
    {
     "name": "stdout",
     "output_type": "stream",
     "text": [
      "[17, 20, 26, 31, 44, 54, 55, 77, 93]\n"
     ]
    }
   ],
   "source": [
    "# Insertion sort - still O(n^2)\n",
    "\n",
    "def insertion_sort(a_list):\n",
    "    for i in range(1, len(a_list)):\n",
    "        cur_val = a_list[i]\n",
    "        cur_pos = i\n",
    "\n",
    "        while cur_pos > 0 and a_list[cur_pos - 1] > cur_val:\n",
    "            a_list[cur_pos] = a_list[cur_pos - 1]\n",
    "            cur_pos = cur_pos - 1\n",
    "        a_list[cur_pos] = cur_val\n",
    "\n",
    "\n",
    "a_list = [54, 26, 93, 17, 77, 31, 44, 55, 20]\n",
    "insertion_sort(a_list)\n",
    "print(a_list)"
   ]
  },
  {
   "cell_type": "code",
   "execution_count": 17,
   "id": "02f2e939-122a-4616-9578-0cc70a9047ee",
   "metadata": {},
   "outputs": [
    {
     "name": "stdout",
     "output_type": "stream",
     "text": [
      "After increments of size 4 the list is [20, 26, 44, 17, 54, 31, 93, 55, 77]\n",
      "After increments of size 2 the list is [20, 17, 44, 26, 54, 31, 77, 55, 93]\n",
      "After increments of size 1 the list is [17, 20, 26, 31, 44, 54, 55, 77, 93]\n",
      "[17, 20, 26, 31, 44, 54, 55, 77, 93]\n"
     ]
    }
   ],
   "source": [
    "# Shell sort - O(n^3/2)\n",
    "\n",
    "def shell_sort(a_list):\n",
    "    sublist_count = len(a_list) // 2\n",
    "    while sublist_count > 0:\n",
    "        for pos_start in range(sublist_count):\n",
    "            gap_insertion_sort(a_list, pos_start, sublist_count)\n",
    "        print(\"After increments of size\", sublist_count, \"the list is\", a_list)\n",
    "        sublist_count = sublist_count // 2\n",
    "\n",
    "\n",
    "def gap_insertion_sort(a_list, start, gap):\n",
    "    for i in range(start + gap, len(a_list), gap):\n",
    "        cur_val = a_list[i]\n",
    "        cur_pos = i\n",
    "        while cur_pos >= gap and a_list[cur_pos - gap] > cur_val:\n",
    "            a_list[cur_pos] = a_list[cur_pos - gap]\n",
    "            cur_pos = cur_pos - gap\n",
    "        a_list[cur_pos] = cur_val\n",
    "\n",
    "\n",
    "a_list = [54, 26, 93, 17, 77, 31, 44, 55, 20]\n",
    "shell_sort(a_list)\n",
    "print(a_list)\n"
   ]
  },
  {
   "cell_type": "code",
   "execution_count": 18,
   "id": "e6ec1d52-5bba-4059-a167-2045cda584cd",
   "metadata": {},
   "outputs": [
    {
     "name": "stdout",
     "output_type": "stream",
     "text": [
      "Splitting [54, 26, 93, 17, 77, 31, 44, 55, 20]\n",
      "Splitting [54, 26, 93, 17]\n",
      "Splitting [54, 26]\n",
      "Splitting [54]\n",
      "Merging [54]\n",
      "Splitting [26]\n",
      "Merging [26]\n",
      "Merging [26, 54]\n",
      "Splitting [93, 17]\n",
      "Splitting [93]\n",
      "Merging [93]\n",
      "Splitting [17]\n",
      "Merging [17]\n",
      "Merging [17, 93]\n",
      "Merging [17, 26, 54, 93]\n",
      "Splitting [77, 31, 44, 55, 20]\n",
      "Splitting [77, 31]\n",
      "Splitting [77]\n",
      "Merging [77]\n",
      "Splitting [31]\n",
      "Merging [31]\n",
      "Merging [31, 77]\n",
      "Splitting [44, 55, 20]\n",
      "Splitting [44]\n",
      "Merging [44]\n",
      "Splitting [55, 20]\n",
      "Splitting [55]\n",
      "Merging [55]\n",
      "Splitting [20]\n",
      "Merging [20]\n",
      "Merging [20, 55]\n",
      "Merging [20, 44, 55]\n",
      "Merging [20, 31, 44, 55, 77]\n",
      "Merging [17, 20, 26, 31, 44, 54, 55, 77, 93]\n",
      "[17, 20, 26, 31, 44, 54, 55, 77, 93]\n"
     ]
    }
   ],
   "source": [
    "# Merge sort - O(n log n)\n",
    "# Merge Sort is the only guaranteed O(n log n) even in the worst case. The cost is that merge sort uses more memory.\n",
    "\n",
    "def merge_sort(a_list):\n",
    "    print(\"Splitting\", a_list)\n",
    "    if len(a_list) > 1:\n",
    "        mid = len(a_list) // 2\n",
    "        left_half = a_list[:mid]\n",
    "        right_half = a_list[mid:]\n",
    "\n",
    "        merge_sort(left_half)\n",
    "        merge_sort(right_half)\n",
    "\n",
    "        i, j, k = 0, 0, 0\n",
    "        while i < len(left_half) and j < len(right_half):\n",
    "            if left_half[i] <= right_half[j]:\n",
    "                a_list[k] = left_half[i]\n",
    "                i = i + 1\n",
    "            else:\n",
    "                a_list[k] = right_half[j]\n",
    "                j = j + 1\n",
    "            k = k + 1\n",
    "\n",
    "        while i < len(left_half):\n",
    "            a_list[k] = left_half[i]\n",
    "            i = i + 1\n",
    "            k = k + 1\n",
    "\n",
    "        while j < len(right_half):\n",
    "            a_list[k] = right_half[j]\n",
    "            j = j + 1\n",
    "            k = k + 1\n",
    "    print(\"Merging\", a_list)\n",
    "\n",
    "\n",
    "a_list = [54, 26, 93, 17, 77, 31, 44, 55, 20]\n",
    "merge_sort(a_list)\n",
    "print(a_list)\n"
   ]
  },
  {
   "cell_type": "code",
   "execution_count": 1,
   "id": "0efbd86c-4443-4a00-b5a7-2b8957f05526",
   "metadata": {},
   "outputs": [
    {
     "name": "stdout",
     "output_type": "stream",
     "text": [
      "[17, 20, 26, 31, 44, 54, 55, 77, 93]\n"
     ]
    }
   ],
   "source": [
    "# Quicksort\n",
    "\n",
    "def quick_sort(a_list):\n",
    "    quick_sort_helper(a_list, 0, len(a_list) - 1)\n",
    "\n",
    "\n",
    "def quick_sort_helper(a_list, first, last):\n",
    "    if first < last:\n",
    "        split = partition(a_list, first, last)\n",
    "        quick_sort_helper(a_list, first, split - 1)\n",
    "        quick_sort_helper(a_list, split + 1, last)\n",
    "\n",
    "\n",
    "def partition(a_list, first, last):\n",
    "    pivot_val = a_list[first]\n",
    "    left_mark = first + 1\n",
    "    right_mark = last\n",
    "    done = False\n",
    "\n",
    "    while not done:\n",
    "        while left_mark <= right_mark and a_list[left_mark] <= pivot_val:\n",
    "            left_mark = left_mark + 1\n",
    "        while left_mark <= right_mark and a_list[right_mark] >= pivot_val:\n",
    "            right_mark = right_mark - 1\n",
    "        if right_mark < left_mark:\n",
    "            done = True\n",
    "        else:\n",
    "            a_list[left_mark], a_list[right_mark] = (\n",
    "                a_list[right_mark],\n",
    "                a_list[left_mark],\n",
    "            )\n",
    "    a_list[first], a_list[right_mark] = a_list[right_mark], a_list[first]\n",
    "\n",
    "    return right_mark\n",
    "\n",
    "\n",
    "a_list = [54, 26, 93, 17, 77, 31, 44, 55, 20]\n",
    "quick_sort(a_list)\n",
    "print(a_list)"
   ]
  },
  {
   "cell_type": "code",
   "execution_count": null,
   "id": "f2724da5-9b8f-466a-acc8-aaa190baeec6",
   "metadata": {},
   "outputs": [],
   "source": []
  }
 ],
 "metadata": {
  "kernelspec": {
   "display_name": "Python 3 (ipykernel)",
   "language": "python",
   "name": "python3"
  },
  "language_info": {
   "codemirror_mode": {
    "name": "ipython",
    "version": 3
   },
   "file_extension": ".py",
   "mimetype": "text/x-python",
   "name": "python",
   "nbconvert_exporter": "python",
   "pygments_lexer": "ipython3",
   "version": "3.10.16"
  }
 },
 "nbformat": 4,
 "nbformat_minor": 5
}
